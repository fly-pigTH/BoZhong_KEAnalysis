{
 "cells": [
  {
   "cell_type": "markdown",
   "metadata": {},
   "source": [
    "# 项目公式推导\n",
    "> updated: 2023-07-13"
   ]
  },
  {
   "cell_type": "code",
   "execution_count": 18,
   "metadata": {},
   "outputs": [],
   "source": [
    "# 导入库\n",
    "import sympy as sp"
   ]
  },
  {
   "cell_type": "markdown",
   "metadata": {},
   "source": [
    "## 误差矩阵的推导"
   ]
  },
  {
   "cell_type": "markdown",
   "metadata": {},
   "source": [
    "四轴机床的前三个坐标系采用平行假设（实际DH表示方法需要变换坐标系）"
   ]
  },
  {
   "cell_type": "code",
   "execution_count": 19,
   "metadata": {},
   "outputs": [],
   "source": [
    "# 代求量——齐次变换矩阵\n",
    "T_1__0 = sp.symbols(\"T_1^0\")\n",
    "T_2__1 = sp.symbols(\"T_2^1\")\n",
    "T_3__2 = sp.symbols(\"T_3^2\")\n",
    "T_4__3 = sp.symbols(\"T_4^3\")"
   ]
  },
  {
   "cell_type": "code",
   "execution_count": 20,
   "metadata": {},
   "outputs": [],
   "source": [
    "# 拖板误差量——平移和旋转\n",
    "e_x1, e_y1, e_z1 = sp.symbols(\"\\epsilon_x1 \\epsilon_y1 \\epsilon_z1\")\n",
    "e_x2, e_y2, e_z2 = sp.symbols(\"\\epsilon_x2 \\epsilon_y2 \\epsilon_z2\")\n",
    "e_x3, e_y3, e_z3 = sp.symbols(\"\\epsilon_x3 \\epsilon_y3 \\epsilon_z3\")\n",
    "e_x4, e_y4, e_z4 = sp.symbols(\"\\epsilon_x4 \\epsilon_y4 \\epsilon_z4\")\n",
    "\n",
    "d_x1, d_y1, d_z1 = sp.symbols(\"\\delta_x1 \\delta_y1 \\delta_z1\")\n",
    "d_x2, d_y2, d_z2 = sp.symbols(\"\\delta_x2 \\delta_y2 \\delta_z2\")\n",
    "d_x3, d_y3, d_z3 = sp.symbols(\"\\delta_x3 \\delta_y3 \\delta_z3\")\n",
    "d_x4, d_y4, d_z4 = sp.symbols(\"\\delta_x4 \\delta_y4 \\delta_z4\")\n",
    "\n",
    "a1, b1, c1 = sp.symbols(\"a1 b1 c1\")   # 位移量，应该是DH参数给出的\n",
    "a2, b2, c2 = sp.symbols(\"a2 b2 c2\")\n",
    "a3, b3, c3 = sp.symbols(\"a3 b3 c3\")\n",
    "\n",
    "t_x, t_y, t_z = sp.symbols(\"theta_x theta_y theta_z\")\n"
   ]
  },
  {
   "cell_type": "code",
   "execution_count": 21,
   "metadata": {},
   "outputs": [
    {
     "data": {
      "text/latex": [
       "$\\displaystyle \\left[\\begin{matrix}\\cos{\\left(\\theta_{z} \\right)} & - \\sin{\\left(\\theta_{z} \\right)} & \\epsilon_{y4} & \\delta_{x4}\\\\\\sin{\\left(\\theta_{z} \\right)} & \\cos{\\left(\\theta_{z} \\right)} & - \\epsilon_{x4} & \\delta_{y4}\\\\\\epsilon_{x4} \\sin{\\left(\\theta_{z} \\right)} - \\epsilon_{y4} \\cos{\\left(\\theta_{z} \\right)} & \\epsilon_{x4} \\cos{\\left(\\theta_{z} \\right)} + \\epsilon_{y4} \\sin{\\left(\\theta_{z} \\right)} & 1 & \\delta_{z4}\\\\0 & 0 & 0 & 1\\end{matrix}\\right]$"
      ],
      "text/plain": [
       "Matrix([\n",
       "[                                       cos(theta_z),                                       -sin(theta_z),  \\epsilon_y4, \\delta_x4],\n",
       "[                                       sin(theta_z),                                        cos(theta_z), -\\epsilon_x4, \\delta_y4],\n",
       "[\\epsilon_x4*sin(theta_z) - \\epsilon_y4*cos(theta_z), \\epsilon_x4*cos(theta_z) + \\epsilon_y4*sin(theta_z),            1, \\delta_z4],\n",
       "[                                                  0,                                                   0,            0,         1]])"
      ]
     },
     "execution_count": 21,
     "metadata": {},
     "output_type": "execute_result"
    }
   ],
   "source": [
    "# 齐次变换矩阵\n",
    "T_1__0 = sp.Matrix([\n",
    "    [1, -e_z1, e_y1, a1+d_x1],\n",
    "    [e_z1, 1, -e_x1, b1+d_y1],\n",
    "    [-e_y1, e_x1, 1, c1+d_z1],\n",
    "    [0, 0, 0, 1]\n",
    "])\n",
    "T_2__1 = sp.Matrix([\n",
    "    [1, -e_z2, e_y2, a2+d_x2],\n",
    "    [e_z2, 1, -e_x2, b2+d_y2],\n",
    "    [-e_y2, e_x2, 1, c2+d_z2],\n",
    "    [0, 0, 0, 1]\n",
    "])\n",
    "T_3__2 = sp.Matrix([\n",
    "    [1, -e_z3, e_y3, a3+d_x3],\n",
    "    [e_z3, 1, -e_x3, b3+d_y3],\n",
    "    [-e_y3, e_x3, 1, c3+d_z3],\n",
    "    [0, 0, 0, 1]\n",
    "])\n",
    "T_4__3 = sp.Matrix([\n",
    "    [sp.cos(t_z), -sp.sin(t_z), e_y4, d_x4],\n",
    "    [sp.sin(t_z), sp.cos(t_z), -e_x4, d_y4],\n",
    "    [e_x4*sp.sin(t_z)-e_y4*sp.cos(t_z), e_x4*sp.cos(t_z)+e_y4*sp.sin(t_z), 1, d_z4],\n",
    "    [0, 0, 0, 1]\n",
    "])\n",
    "T_4__3"
   ]
  },
  {
   "cell_type": "markdown",
   "metadata": {},
   "source": [
    "# 未简化的变换矩阵"
   ]
  },
  {
   "cell_type": "code",
   "execution_count": 22,
   "metadata": {},
   "outputs": [
    {
     "data": {
      "text/latex": [
       "$\\displaystyle \\left[\\begin{matrix}- \\epsilon_{x2} \\epsilon_{x3} \\epsilon_{x4} \\epsilon_{y1} \\sin{\\left(\\theta_{z} \\right)} + \\epsilon_{x2} \\epsilon_{x3} \\epsilon_{y1} \\epsilon_{y4} \\cos{\\left(\\theta_{z} \\right)} + \\epsilon_{x2} \\epsilon_{x3} \\epsilon_{z1} \\sin{\\left(\\theta_{z} \\right)} + \\epsilon_{x2} \\epsilon_{x4} \\epsilon_{z1} \\sin{\\left(\\theta_{z} \\right)} + \\epsilon_{x2} \\epsilon_{y1} \\epsilon_{z3} \\cos{\\left(\\theta_{z} \\right)} + \\epsilon_{x2} \\epsilon_{y1} \\sin{\\left(\\theta_{z} \\right)} - \\epsilon_{x2} \\epsilon_{y3} \\epsilon_{z1} \\cos{\\left(\\theta_{z} \\right)} - \\epsilon_{x2} \\epsilon_{y4} \\epsilon_{z1} \\cos{\\left(\\theta_{z} \\right)} + \\epsilon_{x3} \\epsilon_{x4} \\epsilon_{z1} \\sin{\\left(\\theta_{z} \\right)} + \\epsilon_{x3} \\epsilon_{x4} \\epsilon_{z2} \\sin{\\left(\\theta_{z} \\right)} + \\epsilon_{x3} \\epsilon_{y1} \\sin{\\left(\\theta_{z} \\right)} + \\epsilon_{x3} \\epsilon_{y2} \\sin{\\left(\\theta_{z} \\right)} - \\epsilon_{x3} \\epsilon_{y4} \\epsilon_{z1} \\cos{\\left(\\theta_{z} \\right)} - \\epsilon_{x3} \\epsilon_{y4} \\epsilon_{z2} \\cos{\\left(\\theta_{z} \\right)} - \\epsilon_{x4} \\epsilon_{y1} \\epsilon_{y2} \\epsilon_{y3} \\sin{\\left(\\theta_{z} \\right)} + \\epsilon_{x4} \\epsilon_{y1} \\sin{\\left(\\theta_{z} \\right)} + \\epsilon_{x4} \\epsilon_{y2} \\sin{\\left(\\theta_{z} \\right)} - \\epsilon_{x4} \\epsilon_{y3} \\epsilon_{z1} \\epsilon_{z2} \\sin{\\left(\\theta_{z} \\right)} + \\epsilon_{x4} \\epsilon_{y3} \\sin{\\left(\\theta_{z} \\right)} + \\epsilon_{y1} \\epsilon_{y2} \\epsilon_{y3} \\epsilon_{y4} \\cos{\\left(\\theta_{z} \\right)} + \\epsilon_{y1} \\epsilon_{y2} \\epsilon_{z3} \\sin{\\left(\\theta_{z} \\right)} - \\epsilon_{y1} \\epsilon_{y2} \\cos{\\left(\\theta_{z} \\right)} - \\epsilon_{y1} \\epsilon_{y3} \\cos{\\left(\\theta_{z} \\right)} - \\epsilon_{y1} \\epsilon_{y4} \\cos{\\left(\\theta_{z} \\right)} - \\epsilon_{y2} \\epsilon_{y3} \\cos{\\left(\\theta_{z} \\right)} - \\epsilon_{y2} \\epsilon_{y4} \\cos{\\left(\\theta_{z} \\right)} + \\epsilon_{y3} \\epsilon_{y4} \\epsilon_{z1} \\epsilon_{z2} \\cos{\\left(\\theta_{z} \\right)} - \\epsilon_{y3} \\epsilon_{y4} \\cos{\\left(\\theta_{z} \\right)} + \\epsilon_{z1} \\epsilon_{z2} \\epsilon_{z3} \\sin{\\left(\\theta_{z} \\right)} - \\epsilon_{z1} \\epsilon_{z2} \\cos{\\left(\\theta_{z} \\right)} - \\epsilon_{z1} \\epsilon_{z3} \\cos{\\left(\\theta_{z} \\right)} - \\epsilon_{z1} \\sin{\\left(\\theta_{z} \\right)} - \\epsilon_{z2} \\epsilon_{z3} \\cos{\\left(\\theta_{z} \\right)} - \\epsilon_{z2} \\sin{\\left(\\theta_{z} \\right)} - \\epsilon_{z3} \\sin{\\left(\\theta_{z} \\right)} + \\cos{\\left(\\theta_{z} \\right)} & - \\epsilon_{x2} \\epsilon_{x3} \\epsilon_{x4} \\epsilon_{y1} \\cos{\\left(\\theta_{z} \\right)} - \\epsilon_{x2} \\epsilon_{x3} \\epsilon_{y1} \\epsilon_{y4} \\sin{\\left(\\theta_{z} \\right)} + \\epsilon_{x2} \\epsilon_{x3} \\epsilon_{z1} \\cos{\\left(\\theta_{z} \\right)} + \\epsilon_{x2} \\epsilon_{x4} \\epsilon_{z1} \\cos{\\left(\\theta_{z} \\right)} - \\epsilon_{x2} \\epsilon_{y1} \\epsilon_{z3} \\sin{\\left(\\theta_{z} \\right)} + \\epsilon_{x2} \\epsilon_{y1} \\cos{\\left(\\theta_{z} \\right)} + \\epsilon_{x2} \\epsilon_{y3} \\epsilon_{z1} \\sin{\\left(\\theta_{z} \\right)} + \\epsilon_{x2} \\epsilon_{y4} \\epsilon_{z1} \\sin{\\left(\\theta_{z} \\right)} + \\epsilon_{x3} \\epsilon_{x4} \\epsilon_{z1} \\cos{\\left(\\theta_{z} \\right)} + \\epsilon_{x3} \\epsilon_{x4} \\epsilon_{z2} \\cos{\\left(\\theta_{z} \\right)} + \\epsilon_{x3} \\epsilon_{y1} \\cos{\\left(\\theta_{z} \\right)} + \\epsilon_{x3} \\epsilon_{y2} \\cos{\\left(\\theta_{z} \\right)} + \\epsilon_{x3} \\epsilon_{y4} \\epsilon_{z1} \\sin{\\left(\\theta_{z} \\right)} + \\epsilon_{x3} \\epsilon_{y4} \\epsilon_{z2} \\sin{\\left(\\theta_{z} \\right)} - \\epsilon_{x4} \\epsilon_{y1} \\epsilon_{y2} \\epsilon_{y3} \\cos{\\left(\\theta_{z} \\right)} + \\epsilon_{x4} \\epsilon_{y1} \\cos{\\left(\\theta_{z} \\right)} + \\epsilon_{x4} \\epsilon_{y2} \\cos{\\left(\\theta_{z} \\right)} - \\epsilon_{x4} \\epsilon_{y3} \\epsilon_{z1} \\epsilon_{z2} \\cos{\\left(\\theta_{z} \\right)} + \\epsilon_{x4} \\epsilon_{y3} \\cos{\\left(\\theta_{z} \\right)} - \\epsilon_{y1} \\epsilon_{y2} \\epsilon_{y3} \\epsilon_{y4} \\sin{\\left(\\theta_{z} \\right)} + \\epsilon_{y1} \\epsilon_{y2} \\epsilon_{z3} \\cos{\\left(\\theta_{z} \\right)} + \\epsilon_{y1} \\epsilon_{y2} \\sin{\\left(\\theta_{z} \\right)} + \\epsilon_{y1} \\epsilon_{y3} \\sin{\\left(\\theta_{z} \\right)} + \\epsilon_{y1} \\epsilon_{y4} \\sin{\\left(\\theta_{z} \\right)} + \\epsilon_{y2} \\epsilon_{y3} \\sin{\\left(\\theta_{z} \\right)} + \\epsilon_{y2} \\epsilon_{y4} \\sin{\\left(\\theta_{z} \\right)} - \\epsilon_{y3} \\epsilon_{y4} \\epsilon_{z1} \\epsilon_{z2} \\sin{\\left(\\theta_{z} \\right)} + \\epsilon_{y3} \\epsilon_{y4} \\sin{\\left(\\theta_{z} \\right)} + \\epsilon_{z1} \\epsilon_{z2} \\epsilon_{z3} \\cos{\\left(\\theta_{z} \\right)} + \\epsilon_{z1} \\epsilon_{z2} \\sin{\\left(\\theta_{z} \\right)} + \\epsilon_{z1} \\epsilon_{z3} \\sin{\\left(\\theta_{z} \\right)} - \\epsilon_{z1} \\cos{\\left(\\theta_{z} \\right)} + \\epsilon_{z2} \\epsilon_{z3} \\sin{\\left(\\theta_{z} \\right)} - \\epsilon_{z2} \\cos{\\left(\\theta_{z} \\right)} - \\epsilon_{z3} \\cos{\\left(\\theta_{z} \\right)} - \\sin{\\left(\\theta_{z} \\right)} & - \\epsilon_{x2} \\epsilon_{x3} \\epsilon_{x4} \\epsilon_{z1} - \\epsilon_{x2} \\epsilon_{x3} \\epsilon_{y1} - \\epsilon_{x2} \\epsilon_{x4} \\epsilon_{y1} + \\epsilon_{x2} \\epsilon_{y1} \\epsilon_{y4} \\epsilon_{z3} - \\epsilon_{x2} \\epsilon_{y3} \\epsilon_{y4} \\epsilon_{z1} + \\epsilon_{x2} \\epsilon_{z1} - \\epsilon_{x3} \\epsilon_{x4} \\epsilon_{y1} - \\epsilon_{x3} \\epsilon_{x4} \\epsilon_{y2} + \\epsilon_{x3} \\epsilon_{z1} + \\epsilon_{x3} \\epsilon_{z2} - \\epsilon_{x4} \\epsilon_{y1} \\epsilon_{y2} \\epsilon_{z3} - \\epsilon_{x4} \\epsilon_{z1} \\epsilon_{z2} \\epsilon_{z3} + \\epsilon_{x4} \\epsilon_{z1} + \\epsilon_{x4} \\epsilon_{z2} + \\epsilon_{x4} \\epsilon_{z3} - \\epsilon_{y1} \\epsilon_{y2} \\epsilon_{y3} - \\epsilon_{y1} \\epsilon_{y2} \\epsilon_{y4} - \\epsilon_{y1} \\epsilon_{y3} \\epsilon_{y4} + \\epsilon_{y1} - \\epsilon_{y2} \\epsilon_{y3} \\epsilon_{y4} + \\epsilon_{y2} - \\epsilon_{y3} \\epsilon_{z1} \\epsilon_{z2} + \\epsilon_{y3} - \\epsilon_{y4} \\epsilon_{z1} \\epsilon_{z2} - \\epsilon_{y4} \\epsilon_{z1} \\epsilon_{z3} - \\epsilon_{y4} \\epsilon_{z2} \\epsilon_{z3} + \\epsilon_{y4} & \\delta_{x1} + \\delta_{x2} - \\delta_{x3} \\epsilon_{y1} \\epsilon_{y2} - \\delta_{x3} \\epsilon_{z1} \\epsilon_{z2} + \\delta_{x3} + \\delta_{x4} \\epsilon_{x2} \\epsilon_{y1} \\epsilon_{z3} - \\delta_{x4} \\epsilon_{x2} \\epsilon_{y3} \\epsilon_{z1} - \\delta_{x4} \\epsilon_{y1} \\epsilon_{y2} - \\delta_{x4} \\epsilon_{y1} \\epsilon_{y3} - \\delta_{x4} \\epsilon_{y2} \\epsilon_{y3} - \\delta_{x4} \\epsilon_{z1} \\epsilon_{z2} - \\delta_{x4} \\epsilon_{z1} \\epsilon_{z3} - \\delta_{x4} \\epsilon_{z2} \\epsilon_{z3} + \\delta_{x4} - \\delta_{y2} \\epsilon_{z1} + \\delta_{y3} \\epsilon_{x2} \\epsilon_{y1} - \\delta_{y3} \\epsilon_{z1} - \\delta_{y3} \\epsilon_{z2} + \\delta_{y4} \\epsilon_{x2} \\epsilon_{x3} \\epsilon_{z1} + \\delta_{y4} \\epsilon_{x2} \\epsilon_{y1} + \\delta_{y4} \\epsilon_{x3} \\epsilon_{y1} + \\delta_{y4} \\epsilon_{x3} \\epsilon_{y2} + \\delta_{y4} \\epsilon_{y1} \\epsilon_{y2} \\epsilon_{z3} + \\delta_{y4} \\epsilon_{z1} \\epsilon_{z2} \\epsilon_{z3} - \\delta_{y4} \\epsilon_{z1} - \\delta_{y4} \\epsilon_{z2} - \\delta_{y4} \\epsilon_{z3} + \\delta_{z2} \\epsilon_{y1} + \\delta_{z3} \\epsilon_{x2} \\epsilon_{z1} + \\delta_{z3} \\epsilon_{y1} + \\delta_{z3} \\epsilon_{y2} - \\delta_{z4} \\epsilon_{x2} \\epsilon_{x3} \\epsilon_{y1} + \\delta_{z4} \\epsilon_{x2} \\epsilon_{z1} + \\delta_{z4} \\epsilon_{x3} \\epsilon_{z1} + \\delta_{z4} \\epsilon_{x3} \\epsilon_{z2} - \\delta_{z4} \\epsilon_{y1} \\epsilon_{y2} \\epsilon_{y3} + \\delta_{z4} \\epsilon_{y1} + \\delta_{z4} \\epsilon_{y2} - \\delta_{z4} \\epsilon_{y3} \\epsilon_{z1} \\epsilon_{z2} + \\delta_{z4} \\epsilon_{y3} + \\epsilon_{x2} \\epsilon_{y1} b_{3} + \\epsilon_{x2} \\epsilon_{z1} c_{3} - \\epsilon_{y1} \\epsilon_{y2} a_{3} + \\epsilon_{y1} c_{2} + \\epsilon_{y1} c_{3} + \\epsilon_{y2} c_{3} - \\epsilon_{z1} \\epsilon_{z2} a_{3} - \\epsilon_{z1} b_{2} - \\epsilon_{z1} b_{3} - \\epsilon_{z2} b_{3} + a_{1} + a_{2} + a_{3}\\\\\\epsilon_{x1} \\epsilon_{x2} \\epsilon_{x3} \\epsilon_{x4} \\sin{\\left(\\theta_{z} \\right)} - \\epsilon_{x1} \\epsilon_{x2} \\epsilon_{x3} \\epsilon_{y4} \\cos{\\left(\\theta_{z} \\right)} - \\epsilon_{x1} \\epsilon_{x2} \\epsilon_{z3} \\cos{\\left(\\theta_{z} \\right)} - \\epsilon_{x1} \\epsilon_{x2} \\sin{\\left(\\theta_{z} \\right)} - \\epsilon_{x1} \\epsilon_{x3} \\sin{\\left(\\theta_{z} \\right)} + \\epsilon_{x1} \\epsilon_{x4} \\epsilon_{y2} \\epsilon_{y3} \\sin{\\left(\\theta_{z} \\right)} - \\epsilon_{x1} \\epsilon_{x4} \\sin{\\left(\\theta_{z} \\right)} - \\epsilon_{x1} \\epsilon_{y2} \\epsilon_{y3} \\epsilon_{y4} \\cos{\\left(\\theta_{z} \\right)} - \\epsilon_{x1} \\epsilon_{y2} \\epsilon_{z3} \\sin{\\left(\\theta_{z} \\right)} + \\epsilon_{x1} \\epsilon_{y2} \\cos{\\left(\\theta_{z} \\right)} + \\epsilon_{x1} \\epsilon_{y3} \\cos{\\left(\\theta_{z} \\right)} + \\epsilon_{x1} \\epsilon_{y4} \\cos{\\left(\\theta_{z} \\right)} - \\epsilon_{x2} \\epsilon_{x3} \\sin{\\left(\\theta_{z} \\right)} - \\epsilon_{x2} \\epsilon_{x4} \\sin{\\left(\\theta_{z} \\right)} + \\epsilon_{x2} \\epsilon_{y3} \\cos{\\left(\\theta_{z} \\right)} + \\epsilon_{x2} \\epsilon_{y4} \\cos{\\left(\\theta_{z} \\right)} + \\epsilon_{x3} \\epsilon_{x4} \\epsilon_{z1} \\epsilon_{z2} \\sin{\\left(\\theta_{z} \\right)} - \\epsilon_{x3} \\epsilon_{x4} \\sin{\\left(\\theta_{z} \\right)} + \\epsilon_{x3} \\epsilon_{y2} \\epsilon_{z1} \\sin{\\left(\\theta_{z} \\right)} - \\epsilon_{x3} \\epsilon_{y4} \\epsilon_{z1} \\epsilon_{z2} \\cos{\\left(\\theta_{z} \\right)} + \\epsilon_{x3} \\epsilon_{y4} \\cos{\\left(\\theta_{z} \\right)} + \\epsilon_{x4} \\epsilon_{y2} \\epsilon_{z1} \\sin{\\left(\\theta_{z} \\right)} + \\epsilon_{x4} \\epsilon_{y3} \\epsilon_{z1} \\sin{\\left(\\theta_{z} \\right)} + \\epsilon_{x4} \\epsilon_{y3} \\epsilon_{z2} \\sin{\\left(\\theta_{z} \\right)} - \\epsilon_{y2} \\epsilon_{y3} \\epsilon_{z1} \\cos{\\left(\\theta_{z} \\right)} - \\epsilon_{y2} \\epsilon_{y4} \\epsilon_{z1} \\cos{\\left(\\theta_{z} \\right)} - \\epsilon_{y3} \\epsilon_{y4} \\epsilon_{z1} \\cos{\\left(\\theta_{z} \\right)} - \\epsilon_{y3} \\epsilon_{y4} \\epsilon_{z2} \\cos{\\left(\\theta_{z} \\right)} - \\epsilon_{z1} \\epsilon_{z2} \\epsilon_{z3} \\cos{\\left(\\theta_{z} \\right)} - \\epsilon_{z1} \\epsilon_{z2} \\sin{\\left(\\theta_{z} \\right)} - \\epsilon_{z1} \\epsilon_{z3} \\sin{\\left(\\theta_{z} \\right)} + \\epsilon_{z1} \\cos{\\left(\\theta_{z} \\right)} - \\epsilon_{z2} \\epsilon_{z3} \\sin{\\left(\\theta_{z} \\right)} + \\epsilon_{z2} \\cos{\\left(\\theta_{z} \\right)} + \\epsilon_{z3} \\cos{\\left(\\theta_{z} \\right)} + \\sin{\\left(\\theta_{z} \\right)} & \\epsilon_{x1} \\epsilon_{x2} \\epsilon_{x3} \\epsilon_{x4} \\cos{\\left(\\theta_{z} \\right)} + \\epsilon_{x1} \\epsilon_{x2} \\epsilon_{x3} \\epsilon_{y4} \\sin{\\left(\\theta_{z} \\right)} + \\epsilon_{x1} \\epsilon_{x2} \\epsilon_{z3} \\sin{\\left(\\theta_{z} \\right)} - \\epsilon_{x1} \\epsilon_{x2} \\cos{\\left(\\theta_{z} \\right)} - \\epsilon_{x1} \\epsilon_{x3} \\cos{\\left(\\theta_{z} \\right)} + \\epsilon_{x1} \\epsilon_{x4} \\epsilon_{y2} \\epsilon_{y3} \\cos{\\left(\\theta_{z} \\right)} - \\epsilon_{x1} \\epsilon_{x4} \\cos{\\left(\\theta_{z} \\right)} + \\epsilon_{x1} \\epsilon_{y2} \\epsilon_{y3} \\epsilon_{y4} \\sin{\\left(\\theta_{z} \\right)} - \\epsilon_{x1} \\epsilon_{y2} \\epsilon_{z3} \\cos{\\left(\\theta_{z} \\right)} - \\epsilon_{x1} \\epsilon_{y2} \\sin{\\left(\\theta_{z} \\right)} - \\epsilon_{x1} \\epsilon_{y3} \\sin{\\left(\\theta_{z} \\right)} - \\epsilon_{x1} \\epsilon_{y4} \\sin{\\left(\\theta_{z} \\right)} - \\epsilon_{x2} \\epsilon_{x3} \\cos{\\left(\\theta_{z} \\right)} - \\epsilon_{x2} \\epsilon_{x4} \\cos{\\left(\\theta_{z} \\right)} - \\epsilon_{x2} \\epsilon_{y3} \\sin{\\left(\\theta_{z} \\right)} - \\epsilon_{x2} \\epsilon_{y4} \\sin{\\left(\\theta_{z} \\right)} + \\epsilon_{x3} \\epsilon_{x4} \\epsilon_{z1} \\epsilon_{z2} \\cos{\\left(\\theta_{z} \\right)} - \\epsilon_{x3} \\epsilon_{x4} \\cos{\\left(\\theta_{z} \\right)} + \\epsilon_{x3} \\epsilon_{y2} \\epsilon_{z1} \\cos{\\left(\\theta_{z} \\right)} + \\epsilon_{x3} \\epsilon_{y4} \\epsilon_{z1} \\epsilon_{z2} \\sin{\\left(\\theta_{z} \\right)} - \\epsilon_{x3} \\epsilon_{y4} \\sin{\\left(\\theta_{z} \\right)} + \\epsilon_{x4} \\epsilon_{y2} \\epsilon_{z1} \\cos{\\left(\\theta_{z} \\right)} + \\epsilon_{x4} \\epsilon_{y3} \\epsilon_{z1} \\cos{\\left(\\theta_{z} \\right)} + \\epsilon_{x4} \\epsilon_{y3} \\epsilon_{z2} \\cos{\\left(\\theta_{z} \\right)} + \\epsilon_{y2} \\epsilon_{y3} \\epsilon_{z1} \\sin{\\left(\\theta_{z} \\right)} + \\epsilon_{y2} \\epsilon_{y4} \\epsilon_{z1} \\sin{\\left(\\theta_{z} \\right)} + \\epsilon_{y3} \\epsilon_{y4} \\epsilon_{z1} \\sin{\\left(\\theta_{z} \\right)} + \\epsilon_{y3} \\epsilon_{y4} \\epsilon_{z2} \\sin{\\left(\\theta_{z} \\right)} + \\epsilon_{z1} \\epsilon_{z2} \\epsilon_{z3} \\sin{\\left(\\theta_{z} \\right)} - \\epsilon_{z1} \\epsilon_{z2} \\cos{\\left(\\theta_{z} \\right)} - \\epsilon_{z1} \\epsilon_{z3} \\cos{\\left(\\theta_{z} \\right)} - \\epsilon_{z1} \\sin{\\left(\\theta_{z} \\right)} - \\epsilon_{z2} \\epsilon_{z3} \\cos{\\left(\\theta_{z} \\right)} - \\epsilon_{z2} \\sin{\\left(\\theta_{z} \\right)} - \\epsilon_{z3} \\sin{\\left(\\theta_{z} \\right)} + \\cos{\\left(\\theta_{z} \\right)} & \\epsilon_{x1} \\epsilon_{x2} \\epsilon_{x3} + \\epsilon_{x1} \\epsilon_{x2} \\epsilon_{x4} - \\epsilon_{x1} \\epsilon_{x2} \\epsilon_{y4} \\epsilon_{z3} + \\epsilon_{x1} \\epsilon_{x3} \\epsilon_{x4} + \\epsilon_{x1} \\epsilon_{x4} \\epsilon_{y2} \\epsilon_{z3} + \\epsilon_{x1} \\epsilon_{y2} \\epsilon_{y3} + \\epsilon_{x1} \\epsilon_{y2} \\epsilon_{y4} + \\epsilon_{x1} \\epsilon_{y3} \\epsilon_{y4} - \\epsilon_{x1} + \\epsilon_{x2} \\epsilon_{x3} \\epsilon_{x4} + \\epsilon_{x2} \\epsilon_{y3} \\epsilon_{y4} - \\epsilon_{x2} - \\epsilon_{x3} \\epsilon_{x4} \\epsilon_{y2} \\epsilon_{z1} + \\epsilon_{x3} \\epsilon_{z1} \\epsilon_{z2} - \\epsilon_{x3} + \\epsilon_{x4} \\epsilon_{z1} \\epsilon_{z2} + \\epsilon_{x4} \\epsilon_{z1} \\epsilon_{z3} + \\epsilon_{x4} \\epsilon_{z2} \\epsilon_{z3} - \\epsilon_{x4} - \\epsilon_{y2} \\epsilon_{y3} \\epsilon_{y4} \\epsilon_{z1} + \\epsilon_{y2} \\epsilon_{z1} + \\epsilon_{y3} \\epsilon_{z1} + \\epsilon_{y3} \\epsilon_{z2} - \\epsilon_{y4} \\epsilon_{z1} \\epsilon_{z2} \\epsilon_{z3} + \\epsilon_{y4} \\epsilon_{z1} + \\epsilon_{y4} \\epsilon_{z2} + \\epsilon_{y4} \\epsilon_{z3} & \\delta_{x2} \\epsilon_{z1} + \\delta_{x3} \\epsilon_{x1} \\epsilon_{y2} + \\delta_{x3} \\epsilon_{z1} + \\delta_{x3} \\epsilon_{z2} - \\delta_{x4} \\epsilon_{x1} \\epsilon_{x2} \\epsilon_{z3} + \\delta_{x4} \\epsilon_{x1} \\epsilon_{y2} + \\delta_{x4} \\epsilon_{x1} \\epsilon_{y3} + \\delta_{x4} \\epsilon_{x2} \\epsilon_{y3} - \\delta_{x4} \\epsilon_{y2} \\epsilon_{y3} \\epsilon_{z1} - \\delta_{x4} \\epsilon_{z1} \\epsilon_{z2} \\epsilon_{z3} + \\delta_{x4} \\epsilon_{z1} + \\delta_{x4} \\epsilon_{z2} + \\delta_{x4} \\epsilon_{z3} + \\delta_{y1} + \\delta_{y2} - \\delta_{y3} \\epsilon_{x1} \\epsilon_{x2} - \\delta_{y3} \\epsilon_{z1} \\epsilon_{z2} + \\delta_{y3} - \\delta_{y4} \\epsilon_{x1} \\epsilon_{x2} - \\delta_{y4} \\epsilon_{x1} \\epsilon_{x3} - \\delta_{y4} \\epsilon_{x1} \\epsilon_{y2} \\epsilon_{z3} - \\delta_{y4} \\epsilon_{x2} \\epsilon_{x3} + \\delta_{y4} \\epsilon_{x3} \\epsilon_{y2} \\epsilon_{z1} - \\delta_{y4} \\epsilon_{z1} \\epsilon_{z2} - \\delta_{y4} \\epsilon_{z1} \\epsilon_{z3} - \\delta_{y4} \\epsilon_{z2} \\epsilon_{z3} + \\delta_{y4} - \\delta_{z2} \\epsilon_{x1} - \\delta_{z3} \\epsilon_{x1} - \\delta_{z3} \\epsilon_{x2} + \\delta_{z3} \\epsilon_{y2} \\epsilon_{z1} + \\delta_{z4} \\epsilon_{x1} \\epsilon_{x2} \\epsilon_{x3} + \\delta_{z4} \\epsilon_{x1} \\epsilon_{y2} \\epsilon_{y3} - \\delta_{z4} \\epsilon_{x1} - \\delta_{z4} \\epsilon_{x2} + \\delta_{z4} \\epsilon_{x3} \\epsilon_{z1} \\epsilon_{z2} - \\delta_{z4} \\epsilon_{x3} + \\delta_{z4} \\epsilon_{y2} \\epsilon_{z1} + \\delta_{z4} \\epsilon_{y3} \\epsilon_{z1} + \\delta_{z4} \\epsilon_{y3} \\epsilon_{z2} - \\epsilon_{x1} \\epsilon_{x2} b_{3} + \\epsilon_{x1} \\epsilon_{y2} a_{3} - \\epsilon_{x1} c_{2} - \\epsilon_{x1} c_{3} - \\epsilon_{x2} c_{3} + \\epsilon_{y2} \\epsilon_{z1} c_{3} - \\epsilon_{z1} \\epsilon_{z2} b_{3} + \\epsilon_{z1} a_{2} + \\epsilon_{z1} a_{3} + \\epsilon_{z2} a_{3} + b_{1} + b_{2} + b_{3}\\\\- \\epsilon_{x1} \\epsilon_{x2} \\epsilon_{x3} \\sin{\\left(\\theta_{z} \\right)} - \\epsilon_{x1} \\epsilon_{x2} \\epsilon_{x4} \\sin{\\left(\\theta_{z} \\right)} + \\epsilon_{x1} \\epsilon_{x2} \\epsilon_{y3} \\cos{\\left(\\theta_{z} \\right)} + \\epsilon_{x1} \\epsilon_{x2} \\epsilon_{y4} \\cos{\\left(\\theta_{z} \\right)} - \\epsilon_{x1} \\epsilon_{x3} \\epsilon_{x4} \\sin{\\left(\\theta_{z} \\right)} + \\epsilon_{x1} \\epsilon_{x3} \\epsilon_{y4} \\cos{\\left(\\theta_{z} \\right)} + \\epsilon_{x1} \\epsilon_{x4} \\epsilon_{y3} \\epsilon_{z2} \\sin{\\left(\\theta_{z} \\right)} - \\epsilon_{x1} \\epsilon_{y3} \\epsilon_{y4} \\epsilon_{z2} \\cos{\\left(\\theta_{z} \\right)} - \\epsilon_{x1} \\epsilon_{z2} \\epsilon_{z3} \\sin{\\left(\\theta_{z} \\right)} + \\epsilon_{x1} \\epsilon_{z2} \\cos{\\left(\\theta_{z} \\right)} + \\epsilon_{x1} \\epsilon_{z3} \\cos{\\left(\\theta_{z} \\right)} + \\epsilon_{x1} \\sin{\\left(\\theta_{z} \\right)} - \\epsilon_{x2} \\epsilon_{x3} \\epsilon_{x4} \\sin{\\left(\\theta_{z} \\right)} + \\epsilon_{x2} \\epsilon_{x3} \\epsilon_{y4} \\cos{\\left(\\theta_{z} \\right)} + \\epsilon_{x2} \\epsilon_{z3} \\cos{\\left(\\theta_{z} \\right)} + \\epsilon_{x2} \\sin{\\left(\\theta_{z} \\right)} - \\epsilon_{x3} \\epsilon_{x4} \\epsilon_{y1} \\epsilon_{z2} \\sin{\\left(\\theta_{z} \\right)} - \\epsilon_{x3} \\epsilon_{y1} \\epsilon_{y2} \\sin{\\left(\\theta_{z} \\right)} + \\epsilon_{x3} \\epsilon_{y1} \\epsilon_{y4} \\epsilon_{z2} \\cos{\\left(\\theta_{z} \\right)} + \\epsilon_{x3} \\sin{\\left(\\theta_{z} \\right)} - \\epsilon_{x4} \\epsilon_{y1} \\epsilon_{y2} \\sin{\\left(\\theta_{z} \\right)} - \\epsilon_{x4} \\epsilon_{y1} \\epsilon_{y3} \\sin{\\left(\\theta_{z} \\right)} - \\epsilon_{x4} \\epsilon_{y2} \\epsilon_{y3} \\sin{\\left(\\theta_{z} \\right)} + \\epsilon_{x4} \\sin{\\left(\\theta_{z} \\right)} + \\epsilon_{y1} \\epsilon_{y2} \\epsilon_{y3} \\cos{\\left(\\theta_{z} \\right)} + \\epsilon_{y1} \\epsilon_{y2} \\epsilon_{y4} \\cos{\\left(\\theta_{z} \\right)} + \\epsilon_{y1} \\epsilon_{y3} \\epsilon_{y4} \\cos{\\left(\\theta_{z} \\right)} + \\epsilon_{y1} \\epsilon_{z2} \\epsilon_{z3} \\cos{\\left(\\theta_{z} \\right)} + \\epsilon_{y1} \\epsilon_{z2} \\sin{\\left(\\theta_{z} \\right)} + \\epsilon_{y1} \\epsilon_{z3} \\sin{\\left(\\theta_{z} \\right)} - \\epsilon_{y1} \\cos{\\left(\\theta_{z} \\right)} + \\epsilon_{y2} \\epsilon_{y3} \\epsilon_{y4} \\cos{\\left(\\theta_{z} \\right)} + \\epsilon_{y2} \\epsilon_{z3} \\sin{\\left(\\theta_{z} \\right)} - \\epsilon_{y2} \\cos{\\left(\\theta_{z} \\right)} - \\epsilon_{y3} \\cos{\\left(\\theta_{z} \\right)} - \\epsilon_{y4} \\cos{\\left(\\theta_{z} \\right)} & - \\epsilon_{x1} \\epsilon_{x2} \\epsilon_{x3} \\cos{\\left(\\theta_{z} \\right)} - \\epsilon_{x1} \\epsilon_{x2} \\epsilon_{x4} \\cos{\\left(\\theta_{z} \\right)} - \\epsilon_{x1} \\epsilon_{x2} \\epsilon_{y3} \\sin{\\left(\\theta_{z} \\right)} - \\epsilon_{x1} \\epsilon_{x2} \\epsilon_{y4} \\sin{\\left(\\theta_{z} \\right)} - \\epsilon_{x1} \\epsilon_{x3} \\epsilon_{x4} \\cos{\\left(\\theta_{z} \\right)} - \\epsilon_{x1} \\epsilon_{x3} \\epsilon_{y4} \\sin{\\left(\\theta_{z} \\right)} + \\epsilon_{x1} \\epsilon_{x4} \\epsilon_{y3} \\epsilon_{z2} \\cos{\\left(\\theta_{z} \\right)} + \\epsilon_{x1} \\epsilon_{y3} \\epsilon_{y4} \\epsilon_{z2} \\sin{\\left(\\theta_{z} \\right)} - \\epsilon_{x1} \\epsilon_{z2} \\epsilon_{z3} \\cos{\\left(\\theta_{z} \\right)} - \\epsilon_{x1} \\epsilon_{z2} \\sin{\\left(\\theta_{z} \\right)} - \\epsilon_{x1} \\epsilon_{z3} \\sin{\\left(\\theta_{z} \\right)} + \\epsilon_{x1} \\cos{\\left(\\theta_{z} \\right)} - \\epsilon_{x2} \\epsilon_{x3} \\epsilon_{x4} \\cos{\\left(\\theta_{z} \\right)} - \\epsilon_{x2} \\epsilon_{x3} \\epsilon_{y4} \\sin{\\left(\\theta_{z} \\right)} - \\epsilon_{x2} \\epsilon_{z3} \\sin{\\left(\\theta_{z} \\right)} + \\epsilon_{x2} \\cos{\\left(\\theta_{z} \\right)} - \\epsilon_{x3} \\epsilon_{x4} \\epsilon_{y1} \\epsilon_{z2} \\cos{\\left(\\theta_{z} \\right)} - \\epsilon_{x3} \\epsilon_{y1} \\epsilon_{y2} \\cos{\\left(\\theta_{z} \\right)} - \\epsilon_{x3} \\epsilon_{y1} \\epsilon_{y4} \\epsilon_{z2} \\sin{\\left(\\theta_{z} \\right)} + \\epsilon_{x3} \\cos{\\left(\\theta_{z} \\right)} - \\epsilon_{x4} \\epsilon_{y1} \\epsilon_{y2} \\cos{\\left(\\theta_{z} \\right)} - \\epsilon_{x4} \\epsilon_{y1} \\epsilon_{y3} \\cos{\\left(\\theta_{z} \\right)} - \\epsilon_{x4} \\epsilon_{y2} \\epsilon_{y3} \\cos{\\left(\\theta_{z} \\right)} + \\epsilon_{x4} \\cos{\\left(\\theta_{z} \\right)} - \\epsilon_{y1} \\epsilon_{y2} \\epsilon_{y3} \\sin{\\left(\\theta_{z} \\right)} - \\epsilon_{y1} \\epsilon_{y2} \\epsilon_{y4} \\sin{\\left(\\theta_{z} \\right)} - \\epsilon_{y1} \\epsilon_{y3} \\epsilon_{y4} \\sin{\\left(\\theta_{z} \\right)} - \\epsilon_{y1} \\epsilon_{z2} \\epsilon_{z3} \\sin{\\left(\\theta_{z} \\right)} + \\epsilon_{y1} \\epsilon_{z2} \\cos{\\left(\\theta_{z} \\right)} + \\epsilon_{y1} \\epsilon_{z3} \\cos{\\left(\\theta_{z} \\right)} + \\epsilon_{y1} \\sin{\\left(\\theta_{z} \\right)} - \\epsilon_{y2} \\epsilon_{y3} \\epsilon_{y4} \\sin{\\left(\\theta_{z} \\right)} + \\epsilon_{y2} \\epsilon_{z3} \\cos{\\left(\\theta_{z} \\right)} + \\epsilon_{y2} \\sin{\\left(\\theta_{z} \\right)} + \\epsilon_{y3} \\sin{\\left(\\theta_{z} \\right)} + \\epsilon_{y4} \\sin{\\left(\\theta_{z} \\right)} & \\epsilon_{x1} \\epsilon_{x2} \\epsilon_{x3} \\epsilon_{x4} + \\epsilon_{x1} \\epsilon_{x2} \\epsilon_{y3} \\epsilon_{y4} - \\epsilon_{x1} \\epsilon_{x2} - \\epsilon_{x1} \\epsilon_{x3} + \\epsilon_{x1} \\epsilon_{x4} \\epsilon_{z2} \\epsilon_{z3} - \\epsilon_{x1} \\epsilon_{x4} + \\epsilon_{x1} \\epsilon_{y3} \\epsilon_{z2} + \\epsilon_{x1} \\epsilon_{y4} \\epsilon_{z2} + \\epsilon_{x1} \\epsilon_{y4} \\epsilon_{z3} - \\epsilon_{x2} \\epsilon_{x3} - \\epsilon_{x2} \\epsilon_{x4} + \\epsilon_{x2} \\epsilon_{y4} \\epsilon_{z3} + \\epsilon_{x3} \\epsilon_{x4} \\epsilon_{y1} \\epsilon_{y2} - \\epsilon_{x3} \\epsilon_{x4} - \\epsilon_{x3} \\epsilon_{y1} \\epsilon_{z2} - \\epsilon_{x4} \\epsilon_{y1} \\epsilon_{z2} - \\epsilon_{x4} \\epsilon_{y1} \\epsilon_{z3} - \\epsilon_{x4} \\epsilon_{y2} \\epsilon_{z3} + \\epsilon_{y1} \\epsilon_{y2} \\epsilon_{y3} \\epsilon_{y4} - \\epsilon_{y1} \\epsilon_{y2} - \\epsilon_{y1} \\epsilon_{y3} + \\epsilon_{y1} \\epsilon_{y4} \\epsilon_{z2} \\epsilon_{z3} - \\epsilon_{y1} \\epsilon_{y4} - \\epsilon_{y2} \\epsilon_{y3} - \\epsilon_{y2} \\epsilon_{y4} - \\epsilon_{y3} \\epsilon_{y4} + 1 & - \\delta_{x2} \\epsilon_{y1} + \\delta_{x3} \\epsilon_{x1} \\epsilon_{z2} - \\delta_{x3} \\epsilon_{y1} - \\delta_{x3} \\epsilon_{y2} + \\delta_{x4} \\epsilon_{x1} \\epsilon_{x2} \\epsilon_{y3} + \\delta_{x4} \\epsilon_{x1} \\epsilon_{z2} + \\delta_{x4} \\epsilon_{x1} \\epsilon_{z3} + \\delta_{x4} \\epsilon_{x2} \\epsilon_{z3} + \\delta_{x4} \\epsilon_{y1} \\epsilon_{y2} \\epsilon_{y3} + \\delta_{x4} \\epsilon_{y1} \\epsilon_{z2} \\epsilon_{z3} - \\delta_{x4} \\epsilon_{y1} - \\delta_{x4} \\epsilon_{y2} - \\delta_{x4} \\epsilon_{y3} + \\delta_{y2} \\epsilon_{x1} + \\delta_{y3} \\epsilon_{x1} + \\delta_{y3} \\epsilon_{x2} + \\delta_{y3} \\epsilon_{y1} \\epsilon_{z2} - \\delta_{y4} \\epsilon_{x1} \\epsilon_{x2} \\epsilon_{x3} - \\delta_{y4} \\epsilon_{x1} \\epsilon_{z2} \\epsilon_{z3} + \\delta_{y4} \\epsilon_{x1} + \\delta_{y4} \\epsilon_{x2} - \\delta_{y4} \\epsilon_{x3} \\epsilon_{y1} \\epsilon_{y2} + \\delta_{y4} \\epsilon_{x3} + \\delta_{y4} \\epsilon_{y1} \\epsilon_{z2} + \\delta_{y4} \\epsilon_{y1} \\epsilon_{z3} + \\delta_{y4} \\epsilon_{y2} \\epsilon_{z3} + \\delta_{z1} + \\delta_{z2} - \\delta_{z3} \\epsilon_{x1} \\epsilon_{x2} - \\delta_{z3} \\epsilon_{y1} \\epsilon_{y2} + \\delta_{z3} - \\delta_{z4} \\epsilon_{x1} \\epsilon_{x2} - \\delta_{z4} \\epsilon_{x1} \\epsilon_{x3} + \\delta_{z4} \\epsilon_{x1} \\epsilon_{y3} \\epsilon_{z2} - \\delta_{z4} \\epsilon_{x2} \\epsilon_{x3} - \\delta_{z4} \\epsilon_{x3} \\epsilon_{y1} \\epsilon_{z2} - \\delta_{z4} \\epsilon_{y1} \\epsilon_{y2} - \\delta_{z4} \\epsilon_{y1} \\epsilon_{y3} - \\delta_{z4} \\epsilon_{y2} \\epsilon_{y3} + \\delta_{z4} - \\epsilon_{x1} \\epsilon_{x2} c_{3} + \\epsilon_{x1} \\epsilon_{z2} a_{3} + \\epsilon_{x1} b_{2} + \\epsilon_{x1} b_{3} + \\epsilon_{x2} b_{3} - \\epsilon_{y1} \\epsilon_{y2} c_{3} + \\epsilon_{y1} \\epsilon_{z2} b_{3} - \\epsilon_{y1} a_{2} - \\epsilon_{y1} a_{3} - \\epsilon_{y2} a_{3} + c_{1} + c_{2} + c_{3}\\\\0 & 0 & 0 & 1\\end{matrix}\\right]$"
      ],
      "text/plain": [
       "Matrix([\n",
       "[-\\epsilon_x2*\\epsilon_x3*\\epsilon_x4*\\epsilon_y1*sin(theta_z) + \\epsilon_x2*\\epsilon_x3*\\epsilon_y1*\\epsilon_y4*cos(theta_z) + \\epsilon_x2*\\epsilon_x3*\\epsilon_z1*sin(theta_z) + \\epsilon_x2*\\epsilon_x4*\\epsilon_z1*sin(theta_z) + \\epsilon_x2*\\epsilon_y1*\\epsilon_z3*cos(theta_z) + \\epsilon_x2*\\epsilon_y1*sin(theta_z) - \\epsilon_x2*\\epsilon_y3*\\epsilon_z1*cos(theta_z) - \\epsilon_x2*\\epsilon_y4*\\epsilon_z1*cos(theta_z) + \\epsilon_x3*\\epsilon_x4*\\epsilon_z1*sin(theta_z) + \\epsilon_x3*\\epsilon_x4*\\epsilon_z2*sin(theta_z) + \\epsilon_x3*\\epsilon_y1*sin(theta_z) + \\epsilon_x3*\\epsilon_y2*sin(theta_z) - \\epsilon_x3*\\epsilon_y4*\\epsilon_z1*cos(theta_z) - \\epsilon_x3*\\epsilon_y4*\\epsilon_z2*cos(theta_z) - \\epsilon_x4*\\epsilon_y1*\\epsilon_y2*\\epsilon_y3*sin(theta_z) + \\epsilon_x4*\\epsilon_y1*sin(theta_z) + \\epsilon_x4*\\epsilon_y2*sin(theta_z) - \\epsilon_x4*\\epsilon_y3*\\epsilon_z1*\\epsilon_z2*sin(theta_z) + \\epsilon_x4*\\epsilon_y3*sin(theta_z) + \\epsilon_y1*\\epsilon_y2*\\epsilon_y3*\\epsilon_y4*cos(theta_z) + \\epsilon_y1*\\epsilon_y2*\\epsilon_z3*sin(theta_z) - \\epsilon_y1*\\epsilon_y2*cos(theta_z) - \\epsilon_y1*\\epsilon_y3*cos(theta_z) - \\epsilon_y1*\\epsilon_y4*cos(theta_z) - \\epsilon_y2*\\epsilon_y3*cos(theta_z) - \\epsilon_y2*\\epsilon_y4*cos(theta_z) + \\epsilon_y3*\\epsilon_y4*\\epsilon_z1*\\epsilon_z2*cos(theta_z) - \\epsilon_y3*\\epsilon_y4*cos(theta_z) + \\epsilon_z1*\\epsilon_z2*\\epsilon_z3*sin(theta_z) - \\epsilon_z1*\\epsilon_z2*cos(theta_z) - \\epsilon_z1*\\epsilon_z3*cos(theta_z) - \\epsilon_z1*sin(theta_z) - \\epsilon_z2*\\epsilon_z3*cos(theta_z) - \\epsilon_z2*sin(theta_z) - \\epsilon_z3*sin(theta_z) + cos(theta_z), -\\epsilon_x2*\\epsilon_x3*\\epsilon_x4*\\epsilon_y1*cos(theta_z) - \\epsilon_x2*\\epsilon_x3*\\epsilon_y1*\\epsilon_y4*sin(theta_z) + \\epsilon_x2*\\epsilon_x3*\\epsilon_z1*cos(theta_z) + \\epsilon_x2*\\epsilon_x4*\\epsilon_z1*cos(theta_z) - \\epsilon_x2*\\epsilon_y1*\\epsilon_z3*sin(theta_z) + \\epsilon_x2*\\epsilon_y1*cos(theta_z) + \\epsilon_x2*\\epsilon_y3*\\epsilon_z1*sin(theta_z) + \\epsilon_x2*\\epsilon_y4*\\epsilon_z1*sin(theta_z) + \\epsilon_x3*\\epsilon_x4*\\epsilon_z1*cos(theta_z) + \\epsilon_x3*\\epsilon_x4*\\epsilon_z2*cos(theta_z) + \\epsilon_x3*\\epsilon_y1*cos(theta_z) + \\epsilon_x3*\\epsilon_y2*cos(theta_z) + \\epsilon_x3*\\epsilon_y4*\\epsilon_z1*sin(theta_z) + \\epsilon_x3*\\epsilon_y4*\\epsilon_z2*sin(theta_z) - \\epsilon_x4*\\epsilon_y1*\\epsilon_y2*\\epsilon_y3*cos(theta_z) + \\epsilon_x4*\\epsilon_y1*cos(theta_z) + \\epsilon_x4*\\epsilon_y2*cos(theta_z) - \\epsilon_x4*\\epsilon_y3*\\epsilon_z1*\\epsilon_z2*cos(theta_z) + \\epsilon_x4*\\epsilon_y3*cos(theta_z) - \\epsilon_y1*\\epsilon_y2*\\epsilon_y3*\\epsilon_y4*sin(theta_z) + \\epsilon_y1*\\epsilon_y2*\\epsilon_z3*cos(theta_z) + \\epsilon_y1*\\epsilon_y2*sin(theta_z) + \\epsilon_y1*\\epsilon_y3*sin(theta_z) + \\epsilon_y1*\\epsilon_y4*sin(theta_z) + \\epsilon_y2*\\epsilon_y3*sin(theta_z) + \\epsilon_y2*\\epsilon_y4*sin(theta_z) - \\epsilon_y3*\\epsilon_y4*\\epsilon_z1*\\epsilon_z2*sin(theta_z) + \\epsilon_y3*\\epsilon_y4*sin(theta_z) + \\epsilon_z1*\\epsilon_z2*\\epsilon_z3*cos(theta_z) + \\epsilon_z1*\\epsilon_z2*sin(theta_z) + \\epsilon_z1*\\epsilon_z3*sin(theta_z) - \\epsilon_z1*cos(theta_z) + \\epsilon_z2*\\epsilon_z3*sin(theta_z) - \\epsilon_z2*cos(theta_z) - \\epsilon_z3*cos(theta_z) - sin(theta_z),  -\\epsilon_x2*\\epsilon_x3*\\epsilon_x4*\\epsilon_z1 - \\epsilon_x2*\\epsilon_x3*\\epsilon_y1 - \\epsilon_x2*\\epsilon_x4*\\epsilon_y1 + \\epsilon_x2*\\epsilon_y1*\\epsilon_y4*\\epsilon_z3 - \\epsilon_x2*\\epsilon_y3*\\epsilon_y4*\\epsilon_z1 + \\epsilon_x2*\\epsilon_z1 - \\epsilon_x3*\\epsilon_x4*\\epsilon_y1 - \\epsilon_x3*\\epsilon_x4*\\epsilon_y2 + \\epsilon_x3*\\epsilon_z1 + \\epsilon_x3*\\epsilon_z2 - \\epsilon_x4*\\epsilon_y1*\\epsilon_y2*\\epsilon_z3 - \\epsilon_x4*\\epsilon_z1*\\epsilon_z2*\\epsilon_z3 + \\epsilon_x4*\\epsilon_z1 + \\epsilon_x4*\\epsilon_z2 + \\epsilon_x4*\\epsilon_z3 - \\epsilon_y1*\\epsilon_y2*\\epsilon_y3 - \\epsilon_y1*\\epsilon_y2*\\epsilon_y4 - \\epsilon_y1*\\epsilon_y3*\\epsilon_y4 + \\epsilon_y1 - \\epsilon_y2*\\epsilon_y3*\\epsilon_y4 + \\epsilon_y2 - \\epsilon_y3*\\epsilon_z1*\\epsilon_z2 + \\epsilon_y3 - \\epsilon_y4*\\epsilon_z1*\\epsilon_z2 - \\epsilon_y4*\\epsilon_z1*\\epsilon_z3 - \\epsilon_y4*\\epsilon_z2*\\epsilon_z3 + \\epsilon_y4,  \\delta_x1 + \\delta_x2 - \\delta_x3*\\epsilon_y1*\\epsilon_y2 - \\delta_x3*\\epsilon_z1*\\epsilon_z2 + \\delta_x3 + \\delta_x4*\\epsilon_x2*\\epsilon_y1*\\epsilon_z3 - \\delta_x4*\\epsilon_x2*\\epsilon_y3*\\epsilon_z1 - \\delta_x4*\\epsilon_y1*\\epsilon_y2 - \\delta_x4*\\epsilon_y1*\\epsilon_y3 - \\delta_x4*\\epsilon_y2*\\epsilon_y3 - \\delta_x4*\\epsilon_z1*\\epsilon_z2 - \\delta_x4*\\epsilon_z1*\\epsilon_z3 - \\delta_x4*\\epsilon_z2*\\epsilon_z3 + \\delta_x4 - \\delta_y2*\\epsilon_z1 + \\delta_y3*\\epsilon_x2*\\epsilon_y1 - \\delta_y3*\\epsilon_z1 - \\delta_y3*\\epsilon_z2 + \\delta_y4*\\epsilon_x2*\\epsilon_x3*\\epsilon_z1 + \\delta_y4*\\epsilon_x2*\\epsilon_y1 + \\delta_y4*\\epsilon_x3*\\epsilon_y1 + \\delta_y4*\\epsilon_x3*\\epsilon_y2 + \\delta_y4*\\epsilon_y1*\\epsilon_y2*\\epsilon_z3 + \\delta_y4*\\epsilon_z1*\\epsilon_z2*\\epsilon_z3 - \\delta_y4*\\epsilon_z1 - \\delta_y4*\\epsilon_z2 - \\delta_y4*\\epsilon_z3 + \\delta_z2*\\epsilon_y1 + \\delta_z3*\\epsilon_x2*\\epsilon_z1 + \\delta_z3*\\epsilon_y1 + \\delta_z3*\\epsilon_y2 - \\delta_z4*\\epsilon_x2*\\epsilon_x3*\\epsilon_y1 + \\delta_z4*\\epsilon_x2*\\epsilon_z1 + \\delta_z4*\\epsilon_x3*\\epsilon_z1 + \\delta_z4*\\epsilon_x3*\\epsilon_z2 - \\delta_z4*\\epsilon_y1*\\epsilon_y2*\\epsilon_y3 + \\delta_z4*\\epsilon_y1 + \\delta_z4*\\epsilon_y2 - \\delta_z4*\\epsilon_y3*\\epsilon_z1*\\epsilon_z2 + \\delta_z4*\\epsilon_y3 + \\epsilon_x2*\\epsilon_y1*b3 + \\epsilon_x2*\\epsilon_z1*c3 - \\epsilon_y1*\\epsilon_y2*a3 + \\epsilon_y1*c2 + \\epsilon_y1*c3 + \\epsilon_y2*c3 - \\epsilon_z1*\\epsilon_z2*a3 - \\epsilon_z1*b2 - \\epsilon_z1*b3 - \\epsilon_z2*b3 + a1 + a2 + a3],\n",
       "[ \\epsilon_x1*\\epsilon_x2*\\epsilon_x3*\\epsilon_x4*sin(theta_z) - \\epsilon_x1*\\epsilon_x2*\\epsilon_x3*\\epsilon_y4*cos(theta_z) - \\epsilon_x1*\\epsilon_x2*\\epsilon_z3*cos(theta_z) - \\epsilon_x1*\\epsilon_x2*sin(theta_z) - \\epsilon_x1*\\epsilon_x3*sin(theta_z) + \\epsilon_x1*\\epsilon_x4*\\epsilon_y2*\\epsilon_y3*sin(theta_z) - \\epsilon_x1*\\epsilon_x4*sin(theta_z) - \\epsilon_x1*\\epsilon_y2*\\epsilon_y3*\\epsilon_y4*cos(theta_z) - \\epsilon_x1*\\epsilon_y2*\\epsilon_z3*sin(theta_z) + \\epsilon_x1*\\epsilon_y2*cos(theta_z) + \\epsilon_x1*\\epsilon_y3*cos(theta_z) + \\epsilon_x1*\\epsilon_y4*cos(theta_z) - \\epsilon_x2*\\epsilon_x3*sin(theta_z) - \\epsilon_x2*\\epsilon_x4*sin(theta_z) + \\epsilon_x2*\\epsilon_y3*cos(theta_z) + \\epsilon_x2*\\epsilon_y4*cos(theta_z) + \\epsilon_x3*\\epsilon_x4*\\epsilon_z1*\\epsilon_z2*sin(theta_z) - \\epsilon_x3*\\epsilon_x4*sin(theta_z) + \\epsilon_x3*\\epsilon_y2*\\epsilon_z1*sin(theta_z) - \\epsilon_x3*\\epsilon_y4*\\epsilon_z1*\\epsilon_z2*cos(theta_z) + \\epsilon_x3*\\epsilon_y4*cos(theta_z) + \\epsilon_x4*\\epsilon_y2*\\epsilon_z1*sin(theta_z) + \\epsilon_x4*\\epsilon_y3*\\epsilon_z1*sin(theta_z) + \\epsilon_x4*\\epsilon_y3*\\epsilon_z2*sin(theta_z) - \\epsilon_y2*\\epsilon_y3*\\epsilon_z1*cos(theta_z) - \\epsilon_y2*\\epsilon_y4*\\epsilon_z1*cos(theta_z) - \\epsilon_y3*\\epsilon_y4*\\epsilon_z1*cos(theta_z) - \\epsilon_y3*\\epsilon_y4*\\epsilon_z2*cos(theta_z) - \\epsilon_z1*\\epsilon_z2*\\epsilon_z3*cos(theta_z) - \\epsilon_z1*\\epsilon_z2*sin(theta_z) - \\epsilon_z1*\\epsilon_z3*sin(theta_z) + \\epsilon_z1*cos(theta_z) - \\epsilon_z2*\\epsilon_z3*sin(theta_z) + \\epsilon_z2*cos(theta_z) + \\epsilon_z3*cos(theta_z) + sin(theta_z),  \\epsilon_x1*\\epsilon_x2*\\epsilon_x3*\\epsilon_x4*cos(theta_z) + \\epsilon_x1*\\epsilon_x2*\\epsilon_x3*\\epsilon_y4*sin(theta_z) + \\epsilon_x1*\\epsilon_x2*\\epsilon_z3*sin(theta_z) - \\epsilon_x1*\\epsilon_x2*cos(theta_z) - \\epsilon_x1*\\epsilon_x3*cos(theta_z) + \\epsilon_x1*\\epsilon_x4*\\epsilon_y2*\\epsilon_y3*cos(theta_z) - \\epsilon_x1*\\epsilon_x4*cos(theta_z) + \\epsilon_x1*\\epsilon_y2*\\epsilon_y3*\\epsilon_y4*sin(theta_z) - \\epsilon_x1*\\epsilon_y2*\\epsilon_z3*cos(theta_z) - \\epsilon_x1*\\epsilon_y2*sin(theta_z) - \\epsilon_x1*\\epsilon_y3*sin(theta_z) - \\epsilon_x1*\\epsilon_y4*sin(theta_z) - \\epsilon_x2*\\epsilon_x3*cos(theta_z) - \\epsilon_x2*\\epsilon_x4*cos(theta_z) - \\epsilon_x2*\\epsilon_y3*sin(theta_z) - \\epsilon_x2*\\epsilon_y4*sin(theta_z) + \\epsilon_x3*\\epsilon_x4*\\epsilon_z1*\\epsilon_z2*cos(theta_z) - \\epsilon_x3*\\epsilon_x4*cos(theta_z) + \\epsilon_x3*\\epsilon_y2*\\epsilon_z1*cos(theta_z) + \\epsilon_x3*\\epsilon_y4*\\epsilon_z1*\\epsilon_z2*sin(theta_z) - \\epsilon_x3*\\epsilon_y4*sin(theta_z) + \\epsilon_x4*\\epsilon_y2*\\epsilon_z1*cos(theta_z) + \\epsilon_x4*\\epsilon_y3*\\epsilon_z1*cos(theta_z) + \\epsilon_x4*\\epsilon_y3*\\epsilon_z2*cos(theta_z) + \\epsilon_y2*\\epsilon_y3*\\epsilon_z1*sin(theta_z) + \\epsilon_y2*\\epsilon_y4*\\epsilon_z1*sin(theta_z) + \\epsilon_y3*\\epsilon_y4*\\epsilon_z1*sin(theta_z) + \\epsilon_y3*\\epsilon_y4*\\epsilon_z2*sin(theta_z) + \\epsilon_z1*\\epsilon_z2*\\epsilon_z3*sin(theta_z) - \\epsilon_z1*\\epsilon_z2*cos(theta_z) - \\epsilon_z1*\\epsilon_z3*cos(theta_z) - \\epsilon_z1*sin(theta_z) - \\epsilon_z2*\\epsilon_z3*cos(theta_z) - \\epsilon_z2*sin(theta_z) - \\epsilon_z3*sin(theta_z) + cos(theta_z),   \\epsilon_x1*\\epsilon_x2*\\epsilon_x3 + \\epsilon_x1*\\epsilon_x2*\\epsilon_x4 - \\epsilon_x1*\\epsilon_x2*\\epsilon_y4*\\epsilon_z3 + \\epsilon_x1*\\epsilon_x3*\\epsilon_x4 + \\epsilon_x1*\\epsilon_x4*\\epsilon_y2*\\epsilon_z3 + \\epsilon_x1*\\epsilon_y2*\\epsilon_y3 + \\epsilon_x1*\\epsilon_y2*\\epsilon_y4 + \\epsilon_x1*\\epsilon_y3*\\epsilon_y4 - \\epsilon_x1 + \\epsilon_x2*\\epsilon_x3*\\epsilon_x4 + \\epsilon_x2*\\epsilon_y3*\\epsilon_y4 - \\epsilon_x2 - \\epsilon_x3*\\epsilon_x4*\\epsilon_y2*\\epsilon_z1 + \\epsilon_x3*\\epsilon_z1*\\epsilon_z2 - \\epsilon_x3 + \\epsilon_x4*\\epsilon_z1*\\epsilon_z2 + \\epsilon_x4*\\epsilon_z1*\\epsilon_z3 + \\epsilon_x4*\\epsilon_z2*\\epsilon_z3 - \\epsilon_x4 - \\epsilon_y2*\\epsilon_y3*\\epsilon_y4*\\epsilon_z1 + \\epsilon_y2*\\epsilon_z1 + \\epsilon_y3*\\epsilon_z1 + \\epsilon_y3*\\epsilon_z2 - \\epsilon_y4*\\epsilon_z1*\\epsilon_z2*\\epsilon_z3 + \\epsilon_y4*\\epsilon_z1 + \\epsilon_y4*\\epsilon_z2 + \\epsilon_y4*\\epsilon_z3,  \\delta_x2*\\epsilon_z1 + \\delta_x3*\\epsilon_x1*\\epsilon_y2 + \\delta_x3*\\epsilon_z1 + \\delta_x3*\\epsilon_z2 - \\delta_x4*\\epsilon_x1*\\epsilon_x2*\\epsilon_z3 + \\delta_x4*\\epsilon_x1*\\epsilon_y2 + \\delta_x4*\\epsilon_x1*\\epsilon_y3 + \\delta_x4*\\epsilon_x2*\\epsilon_y3 - \\delta_x4*\\epsilon_y2*\\epsilon_y3*\\epsilon_z1 - \\delta_x4*\\epsilon_z1*\\epsilon_z2*\\epsilon_z3 + \\delta_x4*\\epsilon_z1 + \\delta_x4*\\epsilon_z2 + \\delta_x4*\\epsilon_z3 + \\delta_y1 + \\delta_y2 - \\delta_y3*\\epsilon_x1*\\epsilon_x2 - \\delta_y3*\\epsilon_z1*\\epsilon_z2 + \\delta_y3 - \\delta_y4*\\epsilon_x1*\\epsilon_x2 - \\delta_y4*\\epsilon_x1*\\epsilon_x3 - \\delta_y4*\\epsilon_x1*\\epsilon_y2*\\epsilon_z3 - \\delta_y4*\\epsilon_x2*\\epsilon_x3 + \\delta_y4*\\epsilon_x3*\\epsilon_y2*\\epsilon_z1 - \\delta_y4*\\epsilon_z1*\\epsilon_z2 - \\delta_y4*\\epsilon_z1*\\epsilon_z3 - \\delta_y4*\\epsilon_z2*\\epsilon_z3 + \\delta_y4 - \\delta_z2*\\epsilon_x1 - \\delta_z3*\\epsilon_x1 - \\delta_z3*\\epsilon_x2 + \\delta_z3*\\epsilon_y2*\\epsilon_z1 + \\delta_z4*\\epsilon_x1*\\epsilon_x2*\\epsilon_x3 + \\delta_z4*\\epsilon_x1*\\epsilon_y2*\\epsilon_y3 - \\delta_z4*\\epsilon_x1 - \\delta_z4*\\epsilon_x2 + \\delta_z4*\\epsilon_x3*\\epsilon_z1*\\epsilon_z2 - \\delta_z4*\\epsilon_x3 + \\delta_z4*\\epsilon_y2*\\epsilon_z1 + \\delta_z4*\\epsilon_y3*\\epsilon_z1 + \\delta_z4*\\epsilon_y3*\\epsilon_z2 - \\epsilon_x1*\\epsilon_x2*b3 + \\epsilon_x1*\\epsilon_y2*a3 - \\epsilon_x1*c2 - \\epsilon_x1*c3 - \\epsilon_x2*c3 + \\epsilon_y2*\\epsilon_z1*c3 - \\epsilon_z1*\\epsilon_z2*b3 + \\epsilon_z1*a2 + \\epsilon_z1*a3 + \\epsilon_z2*a3 + b1 + b2 + b3],\n",
       "[-\\epsilon_x1*\\epsilon_x2*\\epsilon_x3*sin(theta_z) - \\epsilon_x1*\\epsilon_x2*\\epsilon_x4*sin(theta_z) + \\epsilon_x1*\\epsilon_x2*\\epsilon_y3*cos(theta_z) + \\epsilon_x1*\\epsilon_x2*\\epsilon_y4*cos(theta_z) - \\epsilon_x1*\\epsilon_x3*\\epsilon_x4*sin(theta_z) + \\epsilon_x1*\\epsilon_x3*\\epsilon_y4*cos(theta_z) + \\epsilon_x1*\\epsilon_x4*\\epsilon_y3*\\epsilon_z2*sin(theta_z) - \\epsilon_x1*\\epsilon_y3*\\epsilon_y4*\\epsilon_z2*cos(theta_z) - \\epsilon_x1*\\epsilon_z2*\\epsilon_z3*sin(theta_z) + \\epsilon_x1*\\epsilon_z2*cos(theta_z) + \\epsilon_x1*\\epsilon_z3*cos(theta_z) + \\epsilon_x1*sin(theta_z) - \\epsilon_x2*\\epsilon_x3*\\epsilon_x4*sin(theta_z) + \\epsilon_x2*\\epsilon_x3*\\epsilon_y4*cos(theta_z) + \\epsilon_x2*\\epsilon_z3*cos(theta_z) + \\epsilon_x2*sin(theta_z) - \\epsilon_x3*\\epsilon_x4*\\epsilon_y1*\\epsilon_z2*sin(theta_z) - \\epsilon_x3*\\epsilon_y1*\\epsilon_y2*sin(theta_z) + \\epsilon_x3*\\epsilon_y1*\\epsilon_y4*\\epsilon_z2*cos(theta_z) + \\epsilon_x3*sin(theta_z) - \\epsilon_x4*\\epsilon_y1*\\epsilon_y2*sin(theta_z) - \\epsilon_x4*\\epsilon_y1*\\epsilon_y3*sin(theta_z) - \\epsilon_x4*\\epsilon_y2*\\epsilon_y3*sin(theta_z) + \\epsilon_x4*sin(theta_z) + \\epsilon_y1*\\epsilon_y2*\\epsilon_y3*cos(theta_z) + \\epsilon_y1*\\epsilon_y2*\\epsilon_y4*cos(theta_z) + \\epsilon_y1*\\epsilon_y3*\\epsilon_y4*cos(theta_z) + \\epsilon_y1*\\epsilon_z2*\\epsilon_z3*cos(theta_z) + \\epsilon_y1*\\epsilon_z2*sin(theta_z) + \\epsilon_y1*\\epsilon_z3*sin(theta_z) - \\epsilon_y1*cos(theta_z) + \\epsilon_y2*\\epsilon_y3*\\epsilon_y4*cos(theta_z) + \\epsilon_y2*\\epsilon_z3*sin(theta_z) - \\epsilon_y2*cos(theta_z) - \\epsilon_y3*cos(theta_z) - \\epsilon_y4*cos(theta_z), -\\epsilon_x1*\\epsilon_x2*\\epsilon_x3*cos(theta_z) - \\epsilon_x1*\\epsilon_x2*\\epsilon_x4*cos(theta_z) - \\epsilon_x1*\\epsilon_x2*\\epsilon_y3*sin(theta_z) - \\epsilon_x1*\\epsilon_x2*\\epsilon_y4*sin(theta_z) - \\epsilon_x1*\\epsilon_x3*\\epsilon_x4*cos(theta_z) - \\epsilon_x1*\\epsilon_x3*\\epsilon_y4*sin(theta_z) + \\epsilon_x1*\\epsilon_x4*\\epsilon_y3*\\epsilon_z2*cos(theta_z) + \\epsilon_x1*\\epsilon_y3*\\epsilon_y4*\\epsilon_z2*sin(theta_z) - \\epsilon_x1*\\epsilon_z2*\\epsilon_z3*cos(theta_z) - \\epsilon_x1*\\epsilon_z2*sin(theta_z) - \\epsilon_x1*\\epsilon_z3*sin(theta_z) + \\epsilon_x1*cos(theta_z) - \\epsilon_x2*\\epsilon_x3*\\epsilon_x4*cos(theta_z) - \\epsilon_x2*\\epsilon_x3*\\epsilon_y4*sin(theta_z) - \\epsilon_x2*\\epsilon_z3*sin(theta_z) + \\epsilon_x2*cos(theta_z) - \\epsilon_x3*\\epsilon_x4*\\epsilon_y1*\\epsilon_z2*cos(theta_z) - \\epsilon_x3*\\epsilon_y1*\\epsilon_y2*cos(theta_z) - \\epsilon_x3*\\epsilon_y1*\\epsilon_y4*\\epsilon_z2*sin(theta_z) + \\epsilon_x3*cos(theta_z) - \\epsilon_x4*\\epsilon_y1*\\epsilon_y2*cos(theta_z) - \\epsilon_x4*\\epsilon_y1*\\epsilon_y3*cos(theta_z) - \\epsilon_x4*\\epsilon_y2*\\epsilon_y3*cos(theta_z) + \\epsilon_x4*cos(theta_z) - \\epsilon_y1*\\epsilon_y2*\\epsilon_y3*sin(theta_z) - \\epsilon_y1*\\epsilon_y2*\\epsilon_y4*sin(theta_z) - \\epsilon_y1*\\epsilon_y3*\\epsilon_y4*sin(theta_z) - \\epsilon_y1*\\epsilon_z2*\\epsilon_z3*sin(theta_z) + \\epsilon_y1*\\epsilon_z2*cos(theta_z) + \\epsilon_y1*\\epsilon_z3*cos(theta_z) + \\epsilon_y1*sin(theta_z) - \\epsilon_y2*\\epsilon_y3*\\epsilon_y4*sin(theta_z) + \\epsilon_y2*\\epsilon_z3*cos(theta_z) + \\epsilon_y2*sin(theta_z) + \\epsilon_y3*sin(theta_z) + \\epsilon_y4*sin(theta_z), \\epsilon_x1*\\epsilon_x2*\\epsilon_x3*\\epsilon_x4 + \\epsilon_x1*\\epsilon_x2*\\epsilon_y3*\\epsilon_y4 - \\epsilon_x1*\\epsilon_x2 - \\epsilon_x1*\\epsilon_x3 + \\epsilon_x1*\\epsilon_x4*\\epsilon_z2*\\epsilon_z3 - \\epsilon_x1*\\epsilon_x4 + \\epsilon_x1*\\epsilon_y3*\\epsilon_z2 + \\epsilon_x1*\\epsilon_y4*\\epsilon_z2 + \\epsilon_x1*\\epsilon_y4*\\epsilon_z3 - \\epsilon_x2*\\epsilon_x3 - \\epsilon_x2*\\epsilon_x4 + \\epsilon_x2*\\epsilon_y4*\\epsilon_z3 + \\epsilon_x3*\\epsilon_x4*\\epsilon_y1*\\epsilon_y2 - \\epsilon_x3*\\epsilon_x4 - \\epsilon_x3*\\epsilon_y1*\\epsilon_z2 - \\epsilon_x4*\\epsilon_y1*\\epsilon_z2 - \\epsilon_x4*\\epsilon_y1*\\epsilon_z3 - \\epsilon_x4*\\epsilon_y2*\\epsilon_z3 + \\epsilon_y1*\\epsilon_y2*\\epsilon_y3*\\epsilon_y4 - \\epsilon_y1*\\epsilon_y2 - \\epsilon_y1*\\epsilon_y3 + \\epsilon_y1*\\epsilon_y4*\\epsilon_z2*\\epsilon_z3 - \\epsilon_y1*\\epsilon_y4 - \\epsilon_y2*\\epsilon_y3 - \\epsilon_y2*\\epsilon_y4 - \\epsilon_y3*\\epsilon_y4 + 1, -\\delta_x2*\\epsilon_y1 + \\delta_x3*\\epsilon_x1*\\epsilon_z2 - \\delta_x3*\\epsilon_y1 - \\delta_x3*\\epsilon_y2 + \\delta_x4*\\epsilon_x1*\\epsilon_x2*\\epsilon_y3 + \\delta_x4*\\epsilon_x1*\\epsilon_z2 + \\delta_x4*\\epsilon_x1*\\epsilon_z3 + \\delta_x4*\\epsilon_x2*\\epsilon_z3 + \\delta_x4*\\epsilon_y1*\\epsilon_y2*\\epsilon_y3 + \\delta_x4*\\epsilon_y1*\\epsilon_z2*\\epsilon_z3 - \\delta_x4*\\epsilon_y1 - \\delta_x4*\\epsilon_y2 - \\delta_x4*\\epsilon_y3 + \\delta_y2*\\epsilon_x1 + \\delta_y3*\\epsilon_x1 + \\delta_y3*\\epsilon_x2 + \\delta_y3*\\epsilon_y1*\\epsilon_z2 - \\delta_y4*\\epsilon_x1*\\epsilon_x2*\\epsilon_x3 - \\delta_y4*\\epsilon_x1*\\epsilon_z2*\\epsilon_z3 + \\delta_y4*\\epsilon_x1 + \\delta_y4*\\epsilon_x2 - \\delta_y4*\\epsilon_x3*\\epsilon_y1*\\epsilon_y2 + \\delta_y4*\\epsilon_x3 + \\delta_y4*\\epsilon_y1*\\epsilon_z2 + \\delta_y4*\\epsilon_y1*\\epsilon_z3 + \\delta_y4*\\epsilon_y2*\\epsilon_z3 + \\delta_z1 + \\delta_z2 - \\delta_z3*\\epsilon_x1*\\epsilon_x2 - \\delta_z3*\\epsilon_y1*\\epsilon_y2 + \\delta_z3 - \\delta_z4*\\epsilon_x1*\\epsilon_x2 - \\delta_z4*\\epsilon_x1*\\epsilon_x3 + \\delta_z4*\\epsilon_x1*\\epsilon_y3*\\epsilon_z2 - \\delta_z4*\\epsilon_x2*\\epsilon_x3 - \\delta_z4*\\epsilon_x3*\\epsilon_y1*\\epsilon_z2 - \\delta_z4*\\epsilon_y1*\\epsilon_y2 - \\delta_z4*\\epsilon_y1*\\epsilon_y3 - \\delta_z4*\\epsilon_y2*\\epsilon_y3 + \\delta_z4 - \\epsilon_x1*\\epsilon_x2*c3 + \\epsilon_x1*\\epsilon_z2*a3 + \\epsilon_x1*b2 + \\epsilon_x1*b3 + \\epsilon_x2*b3 - \\epsilon_y1*\\epsilon_y2*c3 + \\epsilon_y1*\\epsilon_z2*b3 - \\epsilon_y1*a2 - \\epsilon_y1*a3 - \\epsilon_y2*a3 + c1 + c2 + c3],\n",
       "[                                                                                                                                                                                                                                                                                                                                                                                                                                                                                                                                                                                                                                                                                                                                                                                                                                                                                                                                                                                                                                                                                                                                                                                                                                                                                                                                                                                                                                                                                                                                                                                                                                                                                 0,                                                                                                                                                                                                                                                                                                                                                                                                                                                                                                                                                                                                                                                                                                                                                                                                                                                                                                                                                                                                                                                                                                                                                                                                                                                                                                                                                                                                                                                                                                                                                                                                                                                                                  0,                                                                                                                                                                                                                                                                                                                                                                                                                                                                                                                                                                                                                                                                                                                                                                                                                                                                                                                                                     0,                                                                                                                                                                                                                                                                                                                                                                                                                                                                                                                                                                                                                                                                                                                                                                                                                                                                                                                                                                                                                                                                                                                                                                                                                                                                                                                                                                                                                                                                                                                                                                                       1]])"
      ]
     },
     "execution_count": 22,
     "metadata": {},
     "output_type": "execute_result"
    }
   ],
   "source": [
    "# 总体齐次变换矩阵\n",
    "T_4__0 = T_1__0 * T_2__1 * T_3__2 * T_4__3\n",
    "T_4__0 = T_4__0.expand()\n",
    "T_4__0"
   ]
  },
  {
   "cell_type": "markdown",
   "metadata": {},
   "source": [
    "# 简化后的齐次矩阵"
   ]
  },
  {
   "cell_type": "code",
   "execution_count": 23,
   "metadata": {},
   "outputs": [
    {
     "data": {
      "text/latex": [
       "$\\displaystyle \\left[\\begin{matrix}- \\epsilon_{z1} \\sin{\\left(\\theta_{z} \\right)} - \\epsilon_{z2} \\sin{\\left(\\theta_{z} \\right)} - \\epsilon_{z3} \\sin{\\left(\\theta_{z} \\right)} + \\cos{\\left(\\theta_{z} \\right)} & - \\epsilon_{z1} \\cos{\\left(\\theta_{z} \\right)} - \\epsilon_{z2} \\cos{\\left(\\theta_{z} \\right)} - \\epsilon_{z3} \\cos{\\left(\\theta_{z} \\right)} - \\sin{\\left(\\theta_{z} \\right)} & \\epsilon_{y1} + \\epsilon_{y2} + \\epsilon_{y3} + \\epsilon_{y4} & \\delta_{x1} + \\delta_{x2} + \\delta_{x3} + \\delta_{x4} + \\epsilon_{y1} c_{2} + \\epsilon_{y1} c_{3} + \\epsilon_{y2} c_{3} - \\epsilon_{z1} b_{2} - \\epsilon_{z1} b_{3} - \\epsilon_{z2} b_{3} + a_{1} + a_{2} + a_{3}\\\\\\epsilon_{z1} \\cos{\\left(\\theta_{z} \\right)} + \\epsilon_{z2} \\cos{\\left(\\theta_{z} \\right)} + \\epsilon_{z3} \\cos{\\left(\\theta_{z} \\right)} + \\sin{\\left(\\theta_{z} \\right)} & - \\epsilon_{z1} \\sin{\\left(\\theta_{z} \\right)} - \\epsilon_{z2} \\sin{\\left(\\theta_{z} \\right)} - \\epsilon_{z3} \\sin{\\left(\\theta_{z} \\right)} + \\cos{\\left(\\theta_{z} \\right)} & - \\epsilon_{x1} - \\epsilon_{x2} - \\epsilon_{x3} - \\epsilon_{x4} & \\delta_{y1} + \\delta_{y2} + \\delta_{y3} + \\delta_{y4} - \\epsilon_{x1} c_{2} - \\epsilon_{x1} c_{3} - \\epsilon_{x2} c_{3} + \\epsilon_{z1} a_{2} + \\epsilon_{z1} a_{3} + \\epsilon_{z2} a_{3} + b_{1} + b_{2} + b_{3}\\\\\\epsilon_{x1} \\sin{\\left(\\theta_{z} \\right)} + \\epsilon_{x2} \\sin{\\left(\\theta_{z} \\right)} + \\epsilon_{x3} \\sin{\\left(\\theta_{z} \\right)} + \\epsilon_{x4} \\sin{\\left(\\theta_{z} \\right)} - \\epsilon_{y1} \\cos{\\left(\\theta_{z} \\right)} - \\epsilon_{y2} \\cos{\\left(\\theta_{z} \\right)} - \\epsilon_{y3} \\cos{\\left(\\theta_{z} \\right)} - \\epsilon_{y4} \\cos{\\left(\\theta_{z} \\right)} & \\epsilon_{x1} \\cos{\\left(\\theta_{z} \\right)} + \\epsilon_{x2} \\cos{\\left(\\theta_{z} \\right)} + \\epsilon_{x3} \\cos{\\left(\\theta_{z} \\right)} + \\epsilon_{x4} \\cos{\\left(\\theta_{z} \\right)} + \\epsilon_{y1} \\sin{\\left(\\theta_{z} \\right)} + \\epsilon_{y2} \\sin{\\left(\\theta_{z} \\right)} + \\epsilon_{y3} \\sin{\\left(\\theta_{z} \\right)} + \\epsilon_{y4} \\sin{\\left(\\theta_{z} \\right)} & 1 & \\delta_{z1} + \\delta_{z2} + \\delta_{z3} + \\delta_{z4} + \\epsilon_{x1} b_{2} + \\epsilon_{x1} b_{3} + \\epsilon_{x2} b_{3} - \\epsilon_{y1} a_{2} - \\epsilon_{y1} a_{3} - \\epsilon_{y2} a_{3} + c_{1} + c_{2} + c_{3}\\\\0 & 0 & 0 & 1\\end{matrix}\\right]$"
      ],
      "text/plain": [
       "Matrix([\n",
       "[                                                                                                                       -\\epsilon_z1*sin(theta_z) - \\epsilon_z2*sin(theta_z) - \\epsilon_z3*sin(theta_z) + cos(theta_z),                                                                                                                        -\\epsilon_z1*cos(theta_z) - \\epsilon_z2*cos(theta_z) - \\epsilon_z3*cos(theta_z) - sin(theta_z),  \\epsilon_y1 + \\epsilon_y2 + \\epsilon_y3 + \\epsilon_y4, \\delta_x1 + \\delta_x2 + \\delta_x3 + \\delta_x4 + \\epsilon_y1*c2 + \\epsilon_y1*c3 + \\epsilon_y2*c3 - \\epsilon_z1*b2 - \\epsilon_z1*b3 - \\epsilon_z2*b3 + a1 + a2 + a3],\n",
       "[                                                                                                                        \\epsilon_z1*cos(theta_z) + \\epsilon_z2*cos(theta_z) + \\epsilon_z3*cos(theta_z) + sin(theta_z),                                                                                                                        -\\epsilon_z1*sin(theta_z) - \\epsilon_z2*sin(theta_z) - \\epsilon_z3*sin(theta_z) + cos(theta_z), -\\epsilon_x1 - \\epsilon_x2 - \\epsilon_x3 - \\epsilon_x4, \\delta_y1 + \\delta_y2 + \\delta_y3 + \\delta_y4 - \\epsilon_x1*c2 - \\epsilon_x1*c3 - \\epsilon_x2*c3 + \\epsilon_z1*a2 + \\epsilon_z1*a3 + \\epsilon_z2*a3 + b1 + b2 + b3],\n",
       "[\\epsilon_x1*sin(theta_z) + \\epsilon_x2*sin(theta_z) + \\epsilon_x3*sin(theta_z) + \\epsilon_x4*sin(theta_z) - \\epsilon_y1*cos(theta_z) - \\epsilon_y2*cos(theta_z) - \\epsilon_y3*cos(theta_z) - \\epsilon_y4*cos(theta_z), \\epsilon_x1*cos(theta_z) + \\epsilon_x2*cos(theta_z) + \\epsilon_x3*cos(theta_z) + \\epsilon_x4*cos(theta_z) + \\epsilon_y1*sin(theta_z) + \\epsilon_y2*sin(theta_z) + \\epsilon_y3*sin(theta_z) + \\epsilon_y4*sin(theta_z),                                                      1, \\delta_z1 + \\delta_z2 + \\delta_z3 + \\delta_z4 + \\epsilon_x1*b2 + \\epsilon_x1*b3 + \\epsilon_x2*b3 - \\epsilon_y1*a2 - \\epsilon_y1*a3 - \\epsilon_y2*a3 + c1 + c2 + c3],\n",
       "[                                                                                                                                                                                                                    0,                                                                                                                                                                                                                     0,                                                      0,                                                                                                                                                                  1]])"
      ]
     },
     "execution_count": 23,
     "metadata": {},
     "output_type": "execute_result"
    }
   ],
   "source": [
    "# 忽略所有高阶小量\n",
    "high_group = []\n",
    "ex_list = [e_x1, e_x2, e_x3, e_x4]\n",
    "ey_list = [e_y1, e_y2, e_y3, e_y4]\n",
    "ez_list = [e_z1, e_z2, e_z3, e_z4]\n",
    "d_list = [d_x1, d_x2, d_x3, d_x4, d_y1, d_y2, d_y3, d_y4, d_z1, d_z2, d_z3, d_z4]\n",
    "ed_list = ex_list + ey_list + ez_list + d_list\n",
    "for i in range(len(ed_list)):\n",
    "    for j in range(len(ed_list)):\n",
    "        high_group.append((ed_list[i]*ed_list[j], 0))\n",
    "T_4__0 = T_4__0.subs(high_group).expand()\n",
    "T_4__0"
   ]
  },
  {
   "cell_type": "markdown",
   "metadata": {},
   "source": [
    "- 误差计算"
   ]
  },
  {
   "cell_type": "code",
   "execution_count": 24,
   "metadata": {},
   "outputs": [
    {
     "data": {
      "text/latex": [
       "$\\displaystyle \\left[\\begin{matrix}p_{x}\\\\p_{y}\\\\p_{z}\\\\1\\end{matrix}\\right]$"
      ],
      "text/plain": [
       "Matrix([\n",
       "[p_x],\n",
       "[p_y],\n",
       "[p_z],\n",
       "[  1]])"
      ]
     },
     "execution_count": 24,
     "metadata": {},
     "output_type": "execute_result"
    }
   ],
   "source": [
    "p_x, p_y, p_z = sp.symbols(\"p_x p_y p_z\")\n",
    "P_inp = sp.Matrix([p_x, p_y, p_z, 1])\n",
    "P_inp   # 输入值"
   ]
  },
  {
   "cell_type": "code",
   "execution_count": 25,
   "metadata": {},
   "outputs": [
    {
     "data": {
      "text/latex": [
       "$\\displaystyle \\left[\\begin{matrix}a_{1} + a_{2} + a_{3} + p_{x}\\\\b_{1} + b_{2} + b_{3} + p_{y}\\\\c_{1} + c_{2} + c_{3} + p_{z}\\\\1\\end{matrix}\\right]$"
      ],
      "text/plain": [
       "Matrix([\n",
       "[a1 + a2 + a3 + p_x],\n",
       "[b1 + b2 + b3 + p_y],\n",
       "[c1 + c2 + c3 + p_z],\n",
       "[                 1]])"
      ]
     },
     "execution_count": 25,
     "metadata": {},
     "output_type": "execute_result"
    }
   ],
   "source": [
    "P_exp = P_inp.copy()\n",
    "P_list = [a1, b1, c1, a2, b2, c2, a3, b3, c3]\n",
    "for i in range(3):\n",
    "    P_exp[i] += (P_list[i] + P_list[i+3] + P_list[i+6])\n",
    "P_exp   # 目标位置"
   ]
  },
  {
   "cell_type": "code",
   "execution_count": 26,
   "metadata": {},
   "outputs": [
    {
     "data": {
      "text/latex": [
       "$\\displaystyle \\left[\\begin{matrix}\\delta_{x1} + \\delta_{x2} + \\delta_{x3} + \\delta_{x4} + \\epsilon_{y1} c_{2} + \\epsilon_{y1} c_{3} + \\epsilon_{y2} c_{3} - \\epsilon_{z1} b_{2} - \\epsilon_{z1} b_{3} - \\epsilon_{z2} b_{3} + a_{1} + a_{2} + a_{3} + p_{x} \\left(- \\epsilon_{z1} \\sin{\\left(\\theta_{z} \\right)} - \\epsilon_{z2} \\sin{\\left(\\theta_{z} \\right)} - \\epsilon_{z3} \\sin{\\left(\\theta_{z} \\right)} + \\cos{\\left(\\theta_{z} \\right)}\\right) + p_{y} \\left(- \\epsilon_{z1} \\cos{\\left(\\theta_{z} \\right)} - \\epsilon_{z2} \\cos{\\left(\\theta_{z} \\right)} - \\epsilon_{z3} \\cos{\\left(\\theta_{z} \\right)} - \\sin{\\left(\\theta_{z} \\right)}\\right) + p_{z} \\left(\\epsilon_{y1} + \\epsilon_{y2} + \\epsilon_{y3} + \\epsilon_{y4}\\right)\\\\\\delta_{y1} + \\delta_{y2} + \\delta_{y3} + \\delta_{y4} - \\epsilon_{x1} c_{2} - \\epsilon_{x1} c_{3} - \\epsilon_{x2} c_{3} + \\epsilon_{z1} a_{2} + \\epsilon_{z1} a_{3} + \\epsilon_{z2} a_{3} + b_{1} + b_{2} + b_{3} + p_{x} \\left(\\epsilon_{z1} \\cos{\\left(\\theta_{z} \\right)} + \\epsilon_{z2} \\cos{\\left(\\theta_{z} \\right)} + \\epsilon_{z3} \\cos{\\left(\\theta_{z} \\right)} + \\sin{\\left(\\theta_{z} \\right)}\\right) + p_{y} \\left(- \\epsilon_{z1} \\sin{\\left(\\theta_{z} \\right)} - \\epsilon_{z2} \\sin{\\left(\\theta_{z} \\right)} - \\epsilon_{z3} \\sin{\\left(\\theta_{z} \\right)} + \\cos{\\left(\\theta_{z} \\right)}\\right) + p_{z} \\left(- \\epsilon_{x1} - \\epsilon_{x2} - \\epsilon_{x3} - \\epsilon_{x4}\\right)\\\\\\delta_{z1} + \\delta_{z2} + \\delta_{z3} + \\delta_{z4} + \\epsilon_{x1} b_{2} + \\epsilon_{x1} b_{3} + \\epsilon_{x2} b_{3} - \\epsilon_{y1} a_{2} - \\epsilon_{y1} a_{3} - \\epsilon_{y2} a_{3} + c_{1} + c_{2} + c_{3} + p_{x} \\left(\\epsilon_{x1} \\sin{\\left(\\theta_{z} \\right)} + \\epsilon_{x2} \\sin{\\left(\\theta_{z} \\right)} + \\epsilon_{x3} \\sin{\\left(\\theta_{z} \\right)} + \\epsilon_{x4} \\sin{\\left(\\theta_{z} \\right)} - \\epsilon_{y1} \\cos{\\left(\\theta_{z} \\right)} - \\epsilon_{y2} \\cos{\\left(\\theta_{z} \\right)} - \\epsilon_{y3} \\cos{\\left(\\theta_{z} \\right)} - \\epsilon_{y4} \\cos{\\left(\\theta_{z} \\right)}\\right) + p_{y} \\left(\\epsilon_{x1} \\cos{\\left(\\theta_{z} \\right)} + \\epsilon_{x2} \\cos{\\left(\\theta_{z} \\right)} + \\epsilon_{x3} \\cos{\\left(\\theta_{z} \\right)} + \\epsilon_{x4} \\cos{\\left(\\theta_{z} \\right)} + \\epsilon_{y1} \\sin{\\left(\\theta_{z} \\right)} + \\epsilon_{y2} \\sin{\\left(\\theta_{z} \\right)} + \\epsilon_{y3} \\sin{\\left(\\theta_{z} \\right)} + \\epsilon_{y4} \\sin{\\left(\\theta_{z} \\right)}\\right) + p_{z}\\\\1\\end{matrix}\\right]$"
      ],
      "text/plain": [
       "Matrix([\n",
       "[                                                                                                                                                                                      \\delta_x1 + \\delta_x2 + \\delta_x3 + \\delta_x4 + \\epsilon_y1*c2 + \\epsilon_y1*c3 + \\epsilon_y2*c3 - \\epsilon_z1*b2 - \\epsilon_z1*b3 - \\epsilon_z2*b3 + a1 + a2 + a3 + p_x*(-\\epsilon_z1*sin(theta_z) - \\epsilon_z2*sin(theta_z) - \\epsilon_z3*sin(theta_z) + cos(theta_z)) + p_y*(-\\epsilon_z1*cos(theta_z) - \\epsilon_z2*cos(theta_z) - \\epsilon_z3*cos(theta_z) - sin(theta_z)) + p_z*(\\epsilon_y1 + \\epsilon_y2 + \\epsilon_y3 + \\epsilon_y4)],\n",
       "[                                                                                                                                                                                      \\delta_y1 + \\delta_y2 + \\delta_y3 + \\delta_y4 - \\epsilon_x1*c2 - \\epsilon_x1*c3 - \\epsilon_x2*c3 + \\epsilon_z1*a2 + \\epsilon_z1*a3 + \\epsilon_z2*a3 + b1 + b2 + b3 + p_x*(\\epsilon_z1*cos(theta_z) + \\epsilon_z2*cos(theta_z) + \\epsilon_z3*cos(theta_z) + sin(theta_z)) + p_y*(-\\epsilon_z1*sin(theta_z) - \\epsilon_z2*sin(theta_z) - \\epsilon_z3*sin(theta_z) + cos(theta_z)) + p_z*(-\\epsilon_x1 - \\epsilon_x2 - \\epsilon_x3 - \\epsilon_x4)],\n",
       "[\\delta_z1 + \\delta_z2 + \\delta_z3 + \\delta_z4 + \\epsilon_x1*b2 + \\epsilon_x1*b3 + \\epsilon_x2*b3 - \\epsilon_y1*a2 - \\epsilon_y1*a3 - \\epsilon_y2*a3 + c1 + c2 + c3 + p_x*(\\epsilon_x1*sin(theta_z) + \\epsilon_x2*sin(theta_z) + \\epsilon_x3*sin(theta_z) + \\epsilon_x4*sin(theta_z) - \\epsilon_y1*cos(theta_z) - \\epsilon_y2*cos(theta_z) - \\epsilon_y3*cos(theta_z) - \\epsilon_y4*cos(theta_z)) + p_y*(\\epsilon_x1*cos(theta_z) + \\epsilon_x2*cos(theta_z) + \\epsilon_x3*cos(theta_z) + \\epsilon_x4*cos(theta_z) + \\epsilon_y1*sin(theta_z) + \\epsilon_y2*sin(theta_z) + \\epsilon_y3*sin(theta_z) + \\epsilon_y4*sin(theta_z)) + p_z],\n",
       "[                                                                                                                                                                                                                                                                                                                                                                                                                                                                                                                                                                                                                                   1]])"
      ]
     },
     "execution_count": 26,
     "metadata": {},
     "output_type": "execute_result"
    }
   ],
   "source": [
    "P_real = T_4__0 * P_inp\n",
    "P_real   # 实际位置"
   ]
  },
  {
   "cell_type": "code",
   "execution_count": 27,
   "metadata": {},
   "outputs": [],
   "source": [
    "# 计算误差\n",
    "P_err = P_real - P_exp\n",
    "P_err.simplify()\n",
    "for i in range(3):\n",
    "    P_err[i] = P_err[i].collect([p_x, p_y, p_z])"
   ]
  },
  {
   "cell_type": "markdown",
   "metadata": {},
   "source": [
    "# 最终结果"
   ]
  },
  {
   "cell_type": "code",
   "execution_count": 28,
   "metadata": {},
   "outputs": [
    {
     "data": {
      "text/latex": [
       "$\\displaystyle \\delta_{x1} + \\delta_{x2} + \\delta_{x3} + \\delta_{x4} + \\epsilon_{y1} c_{2} + \\epsilon_{y1} c_{3} + \\epsilon_{y2} c_{3} - \\epsilon_{z1} b_{2} - \\epsilon_{z1} b_{3} - \\epsilon_{z2} b_{3} + p_{x} \\left(- \\epsilon_{z1} \\sin{\\left(\\theta_{z} \\right)} - \\epsilon_{z2} \\sin{\\left(\\theta_{z} \\right)} - \\epsilon_{z3} \\sin{\\left(\\theta_{z} \\right)} + \\cos{\\left(\\theta_{z} \\right)} - 1\\right) + p_{y} \\left(- \\epsilon_{z1} \\cos{\\left(\\theta_{z} \\right)} - \\epsilon_{z2} \\cos{\\left(\\theta_{z} \\right)} - \\epsilon_{z3} \\cos{\\left(\\theta_{z} \\right)} - \\sin{\\left(\\theta_{z} \\right)}\\right) + p_{z} \\left(\\epsilon_{y1} + \\epsilon_{y2} + \\epsilon_{y3} + \\epsilon_{y4}\\right)$"
      ],
      "text/plain": [
       "\\delta_x1 + \\delta_x2 + \\delta_x3 + \\delta_x4 + \\epsilon_y1*c2 + \\epsilon_y1*c3 + \\epsilon_y2*c3 - \\epsilon_z1*b2 - \\epsilon_z1*b3 - \\epsilon_z2*b3 + p_x*(-\\epsilon_z1*sin(theta_z) - \\epsilon_z2*sin(theta_z) - \\epsilon_z3*sin(theta_z) + cos(theta_z) - 1) + p_y*(-\\epsilon_z1*cos(theta_z) - \\epsilon_z2*cos(theta_z) - \\epsilon_z3*cos(theta_z) - sin(theta_z)) + p_z*(\\epsilon_y1 + \\epsilon_y2 + \\epsilon_y3 + \\epsilon_y4)"
      ]
     },
     "execution_count": 28,
     "metadata": {},
     "output_type": "execute_result"
    }
   ],
   "source": [
    "P_err[0]"
   ]
  },
  {
   "cell_type": "code",
   "execution_count": 29,
   "metadata": {},
   "outputs": [
    {
     "data": {
      "text/latex": [
       "$\\displaystyle \\delta_{y1} + \\delta_{y2} + \\delta_{y3} + \\delta_{y4} - \\epsilon_{x1} c_{2} - \\epsilon_{x1} c_{3} - \\epsilon_{x2} c_{3} + \\epsilon_{z1} a_{2} + \\epsilon_{z1} a_{3} + \\epsilon_{z2} a_{3} + p_{x} \\left(\\epsilon_{z1} \\cos{\\left(\\theta_{z} \\right)} + \\epsilon_{z2} \\cos{\\left(\\theta_{z} \\right)} + \\epsilon_{z3} \\cos{\\left(\\theta_{z} \\right)} + \\sin{\\left(\\theta_{z} \\right)}\\right) + p_{y} \\left(- \\epsilon_{z1} \\sin{\\left(\\theta_{z} \\right)} - \\epsilon_{z2} \\sin{\\left(\\theta_{z} \\right)} - \\epsilon_{z3} \\sin{\\left(\\theta_{z} \\right)} + \\cos{\\left(\\theta_{z} \\right)} - 1\\right) + p_{z} \\left(- \\epsilon_{x1} - \\epsilon_{x2} - \\epsilon_{x3} - \\epsilon_{x4}\\right)$"
      ],
      "text/plain": [
       "\\delta_y1 + \\delta_y2 + \\delta_y3 + \\delta_y4 - \\epsilon_x1*c2 - \\epsilon_x1*c3 - \\epsilon_x2*c3 + \\epsilon_z1*a2 + \\epsilon_z1*a3 + \\epsilon_z2*a3 + p_x*(\\epsilon_z1*cos(theta_z) + \\epsilon_z2*cos(theta_z) + \\epsilon_z3*cos(theta_z) + sin(theta_z)) + p_y*(-\\epsilon_z1*sin(theta_z) - \\epsilon_z2*sin(theta_z) - \\epsilon_z3*sin(theta_z) + cos(theta_z) - 1) + p_z*(-\\epsilon_x1 - \\epsilon_x2 - \\epsilon_x3 - \\epsilon_x4)"
      ]
     },
     "execution_count": 29,
     "metadata": {},
     "output_type": "execute_result"
    }
   ],
   "source": [
    "P_err[1]"
   ]
  },
  {
   "cell_type": "code",
   "execution_count": 30,
   "metadata": {},
   "outputs": [
    {
     "data": {
      "text/latex": [
       "$\\displaystyle \\delta_{z1} + \\delta_{z2} + \\delta_{z3} + \\delta_{z4} + \\epsilon_{x1} b_{2} + \\epsilon_{x1} b_{3} + \\epsilon_{x2} b_{3} - \\epsilon_{y1} a_{2} - \\epsilon_{y1} a_{3} - \\epsilon_{y2} a_{3} + p_{x} \\left(\\epsilon_{x1} \\sin{\\left(\\theta_{z} \\right)} + \\epsilon_{x2} \\sin{\\left(\\theta_{z} \\right)} + \\epsilon_{x3} \\sin{\\left(\\theta_{z} \\right)} + \\epsilon_{x4} \\sin{\\left(\\theta_{z} \\right)} - \\epsilon_{y1} \\cos{\\left(\\theta_{z} \\right)} - \\epsilon_{y2} \\cos{\\left(\\theta_{z} \\right)} - \\epsilon_{y3} \\cos{\\left(\\theta_{z} \\right)} - \\epsilon_{y4} \\cos{\\left(\\theta_{z} \\right)}\\right) + p_{y} \\left(\\epsilon_{x1} \\cos{\\left(\\theta_{z} \\right)} + \\epsilon_{x2} \\cos{\\left(\\theta_{z} \\right)} + \\epsilon_{x3} \\cos{\\left(\\theta_{z} \\right)} + \\epsilon_{x4} \\cos{\\left(\\theta_{z} \\right)} + \\epsilon_{y1} \\sin{\\left(\\theta_{z} \\right)} + \\epsilon_{y2} \\sin{\\left(\\theta_{z} \\right)} + \\epsilon_{y3} \\sin{\\left(\\theta_{z} \\right)} + \\epsilon_{y4} \\sin{\\left(\\theta_{z} \\right)}\\right)$"
      ],
      "text/plain": [
       "\\delta_z1 + \\delta_z2 + \\delta_z3 + \\delta_z4 + \\epsilon_x1*b2 + \\epsilon_x1*b3 + \\epsilon_x2*b3 - \\epsilon_y1*a2 - \\epsilon_y1*a3 - \\epsilon_y2*a3 + p_x*(\\epsilon_x1*sin(theta_z) + \\epsilon_x2*sin(theta_z) + \\epsilon_x3*sin(theta_z) + \\epsilon_x4*sin(theta_z) - \\epsilon_y1*cos(theta_z) - \\epsilon_y2*cos(theta_z) - \\epsilon_y3*cos(theta_z) - \\epsilon_y4*cos(theta_z)) + p_y*(\\epsilon_x1*cos(theta_z) + \\epsilon_x2*cos(theta_z) + \\epsilon_x3*cos(theta_z) + \\epsilon_x4*cos(theta_z) + \\epsilon_y1*sin(theta_z) + \\epsilon_y2*sin(theta_z) + \\epsilon_y3*sin(theta_z) + \\epsilon_y4*sin(theta_z))"
      ]
     },
     "execution_count": 30,
     "metadata": {},
     "output_type": "execute_result"
    }
   ],
   "source": [
    "P_err[2]"
   ]
  },
  {
   "cell_type": "markdown",
   "metadata": {},
   "source": [
    "和之前学长们写的结果不一致？？应该是学长的错了吧，前面不是六项"
   ]
  },
  {
   "cell_type": "markdown",
   "metadata": {},
   "source": [
    "整理，并生成$\\LaTeX$"
   ]
  },
  {
   "cell_type": "code",
   "execution_count": 31,
   "metadata": {},
   "outputs": [
    {
     "name": "stdout",
     "output_type": "stream",
     "text": [
      "\\delta_{x1} + \\delta_{x2} + \\delta_{x3} + \\delta_{x4} + \\epsilon_{y1} c_{2} + \\epsilon_{y1} c_{3} + \\epsilon_{y2} c_{3} - \\epsilon_{z1} b_{2} - \\epsilon_{z1} b_{3} - \\epsilon_{z2} b_{3} + p_{x} \\left(- \\epsilon_{z1} \\sin{\\left(\\theta_{z} \\right)} - \\epsilon_{z2} \\sin{\\left(\\theta_{z} \\right)} - \\epsilon_{z3} \\sin{\\left(\\theta_{z} \\right)} + \\cos{\\left(\\theta_{z} \\right)} - 1\\right) + p_{y} \\left(- \\epsilon_{z1} \\cos{\\left(\\theta_{z} \\right)} - \\epsilon_{z2} \\cos{\\left(\\theta_{z} \\right)} - \\epsilon_{z3} \\cos{\\left(\\theta_{z} \\right)} - \\sin{\\left(\\theta_{z} \\right)}\\right) + p_{z} \\left(\\epsilon_{y1} + \\epsilon_{y2} + \\epsilon_{y3} + \\epsilon_{y4}\\right)\n",
      "\\delta_{y1} + \\delta_{y2} + \\delta_{y3} + \\delta_{y4} - \\epsilon_{x1} c_{2} - \\epsilon_{x1} c_{3} - \\epsilon_{x2} c_{3} + \\epsilon_{z1} a_{2} + \\epsilon_{z1} a_{3} + \\epsilon_{z2} a_{3} + p_{x} \\left(\\epsilon_{z1} \\cos{\\left(\\theta_{z} \\right)} + \\epsilon_{z2} \\cos{\\left(\\theta_{z} \\right)} + \\epsilon_{z3} \\cos{\\left(\\theta_{z} \\right)} + \\sin{\\left(\\theta_{z} \\right)}\\right) + p_{y} \\left(- \\epsilon_{z1} \\sin{\\left(\\theta_{z} \\right)} - \\epsilon_{z2} \\sin{\\left(\\theta_{z} \\right)} - \\epsilon_{z3} \\sin{\\left(\\theta_{z} \\right)} + \\cos{\\left(\\theta_{z} \\right)} - 1\\right) + p_{z} \\left(- \\epsilon_{x1} - \\epsilon_{x2} - \\epsilon_{x3} - \\epsilon_{x4}\\right)\n",
      "\\delta_{z1} + \\delta_{z2} + \\delta_{z3} + \\delta_{z4} + \\epsilon_{x1} b_{2} + \\epsilon_{x1} b_{3} + \\epsilon_{x2} b_{3} - \\epsilon_{y1} a_{2} - \\epsilon_{y1} a_{3} - \\epsilon_{y2} a_{3} + p_{x} \\left(\\epsilon_{x1} \\sin{\\left(\\theta_{z} \\right)} + \\epsilon_{x2} \\sin{\\left(\\theta_{z} \\right)} + \\epsilon_{x3} \\sin{\\left(\\theta_{z} \\right)} + \\epsilon_{x4} \\sin{\\left(\\theta_{z} \\right)} - \\epsilon_{y1} \\cos{\\left(\\theta_{z} \\right)} - \\epsilon_{y2} \\cos{\\left(\\theta_{z} \\right)} - \\epsilon_{y3} \\cos{\\left(\\theta_{z} \\right)} - \\epsilon_{y4} \\cos{\\left(\\theta_{z} \\right)}\\right) + p_{y} \\left(\\epsilon_{x1} \\cos{\\left(\\theta_{z} \\right)} + \\epsilon_{x2} \\cos{\\left(\\theta_{z} \\right)} + \\epsilon_{x3} \\cos{\\left(\\theta_{z} \\right)} + \\epsilon_{x4} \\cos{\\left(\\theta_{z} \\right)} + \\epsilon_{y1} \\sin{\\left(\\theta_{z} \\right)} + \\epsilon_{y2} \\sin{\\left(\\theta_{z} \\right)} + \\epsilon_{y3} \\sin{\\left(\\theta_{z} \\right)} + \\epsilon_{y4} \\sin{\\left(\\theta_{z} \\right)}\\right)\n",
      "\\left[\\begin{matrix}\\delta_{x1} + \\delta_{x2} + \\delta_{x3} + \\delta_{x4} + \\epsilon_{y1} c_{2} + \\epsilon_{y1} c_{3} + \\epsilon_{y2} c_{3} - \\epsilon_{z1} b_{2} - \\epsilon_{z1} b_{3} - \\epsilon_{z2} b_{3} + a_{1} + a_{2} + a_{3} + p_{x} \\left(- \\epsilon_{z1} \\sin{\\left(\\theta_{z} \\right)} - \\epsilon_{z2} \\sin{\\left(\\theta_{z} \\right)} - \\epsilon_{z3} \\sin{\\left(\\theta_{z} \\right)} + \\cos{\\left(\\theta_{z} \\right)}\\right) + p_{y} \\left(- \\epsilon_{z1} \\cos{\\left(\\theta_{z} \\right)} - \\epsilon_{z2} \\cos{\\left(\\theta_{z} \\right)} - \\epsilon_{z3} \\cos{\\left(\\theta_{z} \\right)} - \\sin{\\left(\\theta_{z} \\right)}\\right) + p_{z} \\left(\\epsilon_{y1} + \\epsilon_{y2} + \\epsilon_{y3} + \\epsilon_{y4}\\right)\\\\\\delta_{y1} + \\delta_{y2} + \\delta_{y3} + \\delta_{y4} - \\epsilon_{x1} c_{2} - \\epsilon_{x1} c_{3} - \\epsilon_{x2} c_{3} + \\epsilon_{z1} a_{2} + \\epsilon_{z1} a_{3} + \\epsilon_{z2} a_{3} + b_{1} + b_{2} + b_{3} + p_{x} \\left(\\epsilon_{z1} \\cos{\\left(\\theta_{z} \\right)} + \\epsilon_{z2} \\cos{\\left(\\theta_{z} \\right)} + \\epsilon_{z3} \\cos{\\left(\\theta_{z} \\right)} + \\sin{\\left(\\theta_{z} \\right)}\\right) + p_{y} \\left(- \\epsilon_{z1} \\sin{\\left(\\theta_{z} \\right)} - \\epsilon_{z2} \\sin{\\left(\\theta_{z} \\right)} - \\epsilon_{z3} \\sin{\\left(\\theta_{z} \\right)} + \\cos{\\left(\\theta_{z} \\right)}\\right) + p_{z} \\left(- \\epsilon_{x1} - \\epsilon_{x2} - \\epsilon_{x3} - \\epsilon_{x4}\\right)\\\\\\delta_{z1} + \\delta_{z2} + \\delta_{z3} + \\delta_{z4} + \\epsilon_{x1} b_{2} + \\epsilon_{x1} b_{3} + \\epsilon_{x2} b_{3} - \\epsilon_{y1} a_{2} - \\epsilon_{y1} a_{3} - \\epsilon_{y2} a_{3} + c_{1} + c_{2} + c_{3} + p_{x} \\left(\\epsilon_{x1} \\sin{\\left(\\theta_{z} \\right)} + \\epsilon_{x2} \\sin{\\left(\\theta_{z} \\right)} + \\epsilon_{x3} \\sin{\\left(\\theta_{z} \\right)} + \\epsilon_{x4} \\sin{\\left(\\theta_{z} \\right)} - \\epsilon_{y1} \\cos{\\left(\\theta_{z} \\right)} - \\epsilon_{y2} \\cos{\\left(\\theta_{z} \\right)} - \\epsilon_{y3} \\cos{\\left(\\theta_{z} \\right)} - \\epsilon_{y4} \\cos{\\left(\\theta_{z} \\right)}\\right) + p_{y} \\left(\\epsilon_{x1} \\cos{\\left(\\theta_{z} \\right)} + \\epsilon_{x2} \\cos{\\left(\\theta_{z} \\right)} + \\epsilon_{x3} \\cos{\\left(\\theta_{z} \\right)} + \\epsilon_{x4} \\cos{\\left(\\theta_{z} \\right)} + \\epsilon_{y1} \\sin{\\left(\\theta_{z} \\right)} + \\epsilon_{y2} \\sin{\\left(\\theta_{z} \\right)} + \\epsilon_{y3} \\sin{\\left(\\theta_{z} \\right)} + \\epsilon_{y4} \\sin{\\left(\\theta_{z} \\right)}\\right) + p_{z}\\\\1\\end{matrix}\\right]\n"
     ]
    }
   ],
   "source": [
    "for i in range(3):\n",
    "    print(sp.latex(P_err[i]))\n",
    "print(sp.latex(P_real))"
   ]
  },
  {
   "cell_type": "code",
   "execution_count": 32,
   "metadata": {},
   "outputs": [
    {
     "name": "stdout",
     "output_type": "stream",
     "text": [
      "\\left[\\begin{matrix}1 & - \\epsilon_{z1} & \\epsilon_{y1} & \\delta_{x1} + a_{1}\\\\\\epsilon_{z1} & 1 & - \\epsilon_{x1} & \\delta_{y1} + b_{1}\\\\- \\epsilon_{y1} & \\epsilon_{x1} & 1 & \\delta_{z1} + c_{1}\\\\0 & 0 & 0 & 1\\end{matrix}\\right]\n",
      "\\left[\\begin{matrix}1 & - \\epsilon_{z2} & \\epsilon_{y2} & \\delta_{x2} + a_{2}\\\\\\epsilon_{z2} & 1 & - \\epsilon_{x2} & \\delta_{y2} + b_{2}\\\\- \\epsilon_{y2} & \\epsilon_{x2} & 1 & \\delta_{z2} + c_{2}\\\\0 & 0 & 0 & 1\\end{matrix}\\right]\n",
      "\\left[\\begin{matrix}1 & - \\epsilon_{z3} & \\epsilon_{y3} & \\delta_{x3} + a_{3}\\\\\\epsilon_{z3} & 1 & - \\epsilon_{x3} & \\delta_{y3} + b_{3}\\\\- \\epsilon_{y3} & \\epsilon_{x3} & 1 & \\delta_{z3} + c_{3}\\\\0 & 0 & 0 & 1\\end{matrix}\\right]\n",
      "\\left[\\begin{matrix}\\cos{\\left(\\theta_{z} \\right)} & - \\sin{\\left(\\theta_{z} \\right)} & \\epsilon_{y4} & \\delta_{x4}\\\\\\sin{\\left(\\theta_{z} \\right)} & \\cos{\\left(\\theta_{z} \\right)} & - \\epsilon_{x4} & \\delta_{y4}\\\\\\epsilon_{x4} \\sin{\\left(\\theta_{z} \\right)} - \\epsilon_{y4} \\cos{\\left(\\theta_{z} \\right)} & \\epsilon_{x4} \\cos{\\left(\\theta_{z} \\right)} + \\epsilon_{y4} \\sin{\\left(\\theta_{z} \\right)} & 1 & \\delta_{z4}\\\\0 & 0 & 0 & 1\\end{matrix}\\right]\n"
     ]
    }
   ],
   "source": [
    "T_list = [T_1__0, T_2__1, T_3__2, T_4__3]\n",
    "for T in T_list:\n",
    "    print(sp.latex(T))"
   ]
  },
  {
   "cell_type": "code",
   "execution_count": 33,
   "metadata": {},
   "outputs": [
    {
     "name": "stdout",
     "output_type": "stream",
     "text": [
      "T_4^0[1, 1] =  - \\epsilon_{z1} \\sin{\\left(\\theta_{z} \\right)} - \\epsilon_{z2} \\sin{\\left(\\theta_{z} \\right)} - \\epsilon_{z3} \\sin{\\left(\\theta_{z} \\right)} + \\cos{\\left(\\theta_{z} \\right)}\\\\\n",
      "T_4^0[1, 2] =  - \\epsilon_{z1} \\cos{\\left(\\theta_{z} \\right)} - \\epsilon_{z2} \\cos{\\left(\\theta_{z} \\right)} - \\epsilon_{z3} \\cos{\\left(\\theta_{z} \\right)} - \\sin{\\left(\\theta_{z} \\right)}\\\\\n",
      "T_4^0[1, 3] =  \\epsilon_{y1} + \\epsilon_{y2} + \\epsilon_{y3} + \\epsilon_{y4}\\\\\n",
      "T_4^0[1, 4] =  \\delta_{x1} + \\delta_{x2} + \\delta_{x3} + \\delta_{x4} + \\epsilon_{y1} c_{2} + \\epsilon_{y1} c_{3} + \\epsilon_{y2} c_{3} - \\epsilon_{z1} b_{2} - \\epsilon_{z1} b_{3} - \\epsilon_{z2} b_{3} + a_{1} + a_{2} + a_{3}\\\\\n",
      "T_4^0[2, 1] =  \\epsilon_{z1} \\cos{\\left(\\theta_{z} \\right)} + \\epsilon_{z2} \\cos{\\left(\\theta_{z} \\right)} + \\epsilon_{z3} \\cos{\\left(\\theta_{z} \\right)} + \\sin{\\left(\\theta_{z} \\right)}\\\\\n",
      "T_4^0[2, 2] =  - \\epsilon_{z1} \\sin{\\left(\\theta_{z} \\right)} - \\epsilon_{z2} \\sin{\\left(\\theta_{z} \\right)} - \\epsilon_{z3} \\sin{\\left(\\theta_{z} \\right)} + \\cos{\\left(\\theta_{z} \\right)}\\\\\n",
      "T_4^0[2, 3] =  - \\epsilon_{x1} - \\epsilon_{x2} - \\epsilon_{x3} - \\epsilon_{x4}\\\\\n",
      "T_4^0[2, 4] =  \\delta_{y1} + \\delta_{y2} + \\delta_{y3} + \\delta_{y4} - \\epsilon_{x1} c_{2} - \\epsilon_{x1} c_{3} - \\epsilon_{x2} c_{3} + \\epsilon_{z1} a_{2} + \\epsilon_{z1} a_{3} + \\epsilon_{z2} a_{3} + b_{1} + b_{2} + b_{3}\\\\\n",
      "T_4^0[3, 1] =  \\epsilon_{x1} \\sin{\\left(\\theta_{z} \\right)} + \\epsilon_{x2} \\sin{\\left(\\theta_{z} \\right)} + \\epsilon_{x3} \\sin{\\left(\\theta_{z} \\right)} + \\epsilon_{x4} \\sin{\\left(\\theta_{z} \\right)} - \\epsilon_{y1} \\cos{\\left(\\theta_{z} \\right)} - \\epsilon_{y2} \\cos{\\left(\\theta_{z} \\right)} - \\epsilon_{y3} \\cos{\\left(\\theta_{z} \\right)} - \\epsilon_{y4} \\cos{\\left(\\theta_{z} \\right)}\\\\\n",
      "T_4^0[3, 2] =  \\epsilon_{x1} \\cos{\\left(\\theta_{z} \\right)} + \\epsilon_{x2} \\cos{\\left(\\theta_{z} \\right)} + \\epsilon_{x3} \\cos{\\left(\\theta_{z} \\right)} + \\epsilon_{x4} \\cos{\\left(\\theta_{z} \\right)} + \\epsilon_{y1} \\sin{\\left(\\theta_{z} \\right)} + \\epsilon_{y2} \\sin{\\left(\\theta_{z} \\right)} + \\epsilon_{y3} \\sin{\\left(\\theta_{z} \\right)} + \\epsilon_{y4} \\sin{\\left(\\theta_{z} \\right)}\\\\\n",
      "T_4^0[3, 3] =  1\\\\\n",
      "T_4^0[3, 4] =  \\delta_{z1} + \\delta_{z2} + \\delta_{z3} + \\delta_{z4} + \\epsilon_{x1} b_{2} + \\epsilon_{x1} b_{3} + \\epsilon_{x2} b_{3} - \\epsilon_{y1} a_{2} - \\epsilon_{y1} a_{3} - \\epsilon_{y2} a_{3} + c_{1} + c_{2} + c_{3}\\\\\n",
      "T_4^0[4, 1] =  0\\\\\n",
      "T_4^0[4, 2] =  0\\\\\n",
      "T_4^0[4, 3] =  0\\\\\n",
      "T_4^0[4, 4] =  1\\\\\n"
     ]
    }
   ],
   "source": [
    "# 太大了，分开打印齐次矩阵的所有分量\n",
    "for i in range(4):\n",
    "    for j in range(4):\n",
    "        print(f\"T_4^0[{i+1}, {j+1}] = \", end=\" \")\n",
    "        print(sp.latex(T_4__0[i, j]), end = \"\")\n",
    "        print(\"\\\\\\\\\")\n",
    "        "
   ]
  },
  {
   "cell_type": "code",
   "execution_count": 34,
   "metadata": {},
   "outputs": [
    {
     "name": "stdout",
     "output_type": "stream",
     "text": [
      "P_{real_x} = \\delta_{x1} + \\delta_{x2} + \\delta_{x3} + \\delta_{x4} + \\epsilon_{y1} c_{2} + \\epsilon_{y1} c_{3} + \\epsilon_{y2} c_{3} - \\epsilon_{z1} b_{2} - \\epsilon_{z1} b_{3} - \\epsilon_{z2} b_{3} + a_{1} + a_{2} + a_{3} + p_{x} \\left(- \\epsilon_{z1} \\sin{\\left(\\theta_{z} \\right)} - \\epsilon_{z2} \\sin{\\left(\\theta_{z} \\right)} - \\epsilon_{z3} \\sin{\\left(\\theta_{z} \\right)} + \\cos{\\left(\\theta_{z} \\right)}\\right) + p_{y} \\left(- \\epsilon_{z1} \\cos{\\left(\\theta_{z} \\right)} - \\epsilon_{z2} \\cos{\\left(\\theta_{z} \\right)} - \\epsilon_{z3} \\cos{\\left(\\theta_{z} \\right)} - \\sin{\\left(\\theta_{z} \\right)}\\right) + p_{z} \\left(\\epsilon_{y1} + \\epsilon_{y2} + \\epsilon_{y3} + \\epsilon_{y4}\\right)\\\\\n",
      "P_{real_y} = \\delta_{y1} + \\delta_{y2} + \\delta_{y3} + \\delta_{y4} - \\epsilon_{x1} c_{2} - \\epsilon_{x1} c_{3} - \\epsilon_{x2} c_{3} + \\epsilon_{z1} a_{2} + \\epsilon_{z1} a_{3} + \\epsilon_{z2} a_{3} + b_{1} + b_{2} + b_{3} + p_{x} \\left(\\epsilon_{z1} \\cos{\\left(\\theta_{z} \\right)} + \\epsilon_{z2} \\cos{\\left(\\theta_{z} \\right)} + \\epsilon_{z3} \\cos{\\left(\\theta_{z} \\right)} + \\sin{\\left(\\theta_{z} \\right)}\\right) + p_{y} \\left(- \\epsilon_{z1} \\sin{\\left(\\theta_{z} \\right)} - \\epsilon_{z2} \\sin{\\left(\\theta_{z} \\right)} - \\epsilon_{z3} \\sin{\\left(\\theta_{z} \\right)} + \\cos{\\left(\\theta_{z} \\right)}\\right) + p_{z} \\left(- \\epsilon_{x1} - \\epsilon_{x2} - \\epsilon_{x3} - \\epsilon_{x4}\\right)\\\\\n",
      "P_{real_z} = \\delta_{z1} + \\delta_{z2} + \\delta_{z3} + \\delta_{z4} + \\epsilon_{x1} b_{2} + \\epsilon_{x1} b_{3} + \\epsilon_{x2} b_{3} - \\epsilon_{y1} a_{2} - \\epsilon_{y1} a_{3} - \\epsilon_{y2} a_{3} + c_{1} + c_{2} + c_{3} + p_{x} \\left(\\epsilon_{x1} \\sin{\\left(\\theta_{z} \\right)} + \\epsilon_{x2} \\sin{\\left(\\theta_{z} \\right)} + \\epsilon_{x3} \\sin{\\left(\\theta_{z} \\right)} + \\epsilon_{x4} \\sin{\\left(\\theta_{z} \\right)} - \\epsilon_{y1} \\cos{\\left(\\theta_{z} \\right)} - \\epsilon_{y2} \\cos{\\left(\\theta_{z} \\right)} - \\epsilon_{y3} \\cos{\\left(\\theta_{z} \\right)} - \\epsilon_{y4} \\cos{\\left(\\theta_{z} \\right)}\\right) + p_{y} \\left(\\epsilon_{x1} \\cos{\\left(\\theta_{z} \\right)} + \\epsilon_{x2} \\cos{\\left(\\theta_{z} \\right)} + \\epsilon_{x3} \\cos{\\left(\\theta_{z} \\right)} + \\epsilon_{x4} \\cos{\\left(\\theta_{z} \\right)} + \\epsilon_{y1} \\sin{\\left(\\theta_{z} \\right)} + \\epsilon_{y2} \\sin{\\left(\\theta_{z} \\right)} + \\epsilon_{y3} \\sin{\\left(\\theta_{z} \\right)} + \\epsilon_{y4} \\sin{\\left(\\theta_{z} \\right)}\\right) + p_{z}\\\\\n",
      "\\left[\\begin{matrix}a_{1} + a_{2} + a_{3} + p_{x}\\\\b_{1} + b_{2} + b_{3} + p_{y}\\\\c_{1} + c_{2} + c_{3} + p_{z}\\\\1\\end{matrix}\\right]\n"
     ]
    }
   ],
   "source": [
    "# 实际位置\n",
    "symbolList = [\"x\", \"y\", \"z\"]\n",
    "for i in range(3):\n",
    "    print(\"P_{real_\" + f\"{symbolList[i]}\" + \"} = \", end=\"\")\n",
    "    print(sp.latex(P_real[i]), end = \"\")\n",
    "    print(\"\\\\\\\\\")\n",
    "print(sp.latex(P_exp))"
   ]
  }
 ],
 "metadata": {
  "kernelspec": {
   "display_name": "DeepLearning",
   "language": "python",
   "name": "python3"
  },
  "language_info": {
   "codemirror_mode": {
    "name": "ipython",
    "version": 3
   },
   "file_extension": ".py",
   "mimetype": "text/x-python",
   "name": "python",
   "nbconvert_exporter": "python",
   "pygments_lexer": "ipython3",
   "version": "3.10.6"
  },
  "orig_nbformat": 4
 },
 "nbformat": 4,
 "nbformat_minor": 2
}
