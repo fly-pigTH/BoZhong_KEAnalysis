{
 "cells": [
  {
   "cell_type": "markdown",
   "metadata": {},
   "source": [
    "# BoZhon Robotic Kinematic Analysis\n",
    "> Author: ZYL"
   ]
  },
  {
   "cell_type": "code",
   "execution_count": 20,
   "metadata": {},
   "outputs": [],
   "source": [
    "# import\n",
    "import roboticstoolbox as rtb\n",
    "from roboticstoolbox.robot.DHLink import PrismaticDH, RevoluteDH\n",
    "from spatialmath import *\n",
    "import numpy as np\n",
    "import math\n",
    "import sympy as sp\n",
    "import random\n",
    "from error import *\n",
    "# 改变后端，弹窗显示\n",
    "%matplotlib qt5"
   ]
  },
  {
   "cell_type": "code",
   "execution_count": 21,
   "metadata": {},
   "outputs": [
    {
     "name": "stdout",
     "output_type": "stream",
     "text": [
      "[[-6.1232340e-17  1.0000000e+00  1.2246468e-16  1.0000000e+00]\n",
      " [ 6.1232340e-17 -1.2246468e-16  1.0000000e+00  1.0000000e+00]\n",
      " [ 1.0000000e+00  6.1232340e-17 -6.1232340e-17  1.0000000e+00]\n",
      " [ 0.0000000e+00  0.0000000e+00  0.0000000e+00  1.0000000e+00]]\n",
      "DHRobot: BoZhonRobot, 4 joints (PPPR), dynamics, standard DH parameters\n",
      "┌──────┬─────┬────┬───────┐\n",
      "│ θⱼ   │ dⱼ  │ aⱼ │  ⍺ⱼ   │\n",
      "├──────┼─────┼────┼───────┤\n",
      "│90.0° │  q1 │  0 │ 90.0° │\n",
      "│90.0° │  q2 │  0 │ 90.0° │\n",
      "│0.0°  │  q3 │  0 │  0.0° │\n",
      "│ q4   │   0 │  0 │  0.0° │\n",
      "└──────┴─────┴────┴───────┘\n",
      "\n",
      "┌─┬──┐\n",
      "└─┴──┘\n",
      "\n"
     ]
    }
   ],
   "source": [
    "# 标准的运动学模型\n",
    "BZRobot = rtb.DHRobot([\n",
    "    PrismaticDH(a=0, alpha=math.pi/2, theta=math.pi/2, offset=0),\n",
    "    PrismaticDH(a=0, alpha=math.pi/2, theta=math.pi/2, offset=0),\n",
    "    PrismaticDH(a=0, alpha=0, theta=0, offset=0),\n",
    "    RevoluteDH(a=0, alpha=0, d=0),\n",
    "], name=\"BoZhonRobot\")\n",
    "print(BZRobot.fkine([1, 1, 1, 0]).A)\n",
    "BZRobot.plot([1, 1, 1, 0]);\n",
    "print(BZRobot)"
   ]
  },
  {
   "cell_type": "code",
   "execution_count": 22,
   "metadata": {},
   "outputs": [
    {
     "name": "stdout",
     "output_type": "stream",
     "text": [
      "[[ 1.0000000e+00  1.2246468e-16 -1.2246468e-16  1.0000000e+00]\n",
      " [-1.2246468e-16  1.0000000e+00  1.2246468e-16  1.0000000e+00]\n",
      " [ 1.2246468e-16 -1.2246468e-16  1.0000000e+00  1.0000000e+00]\n",
      " [ 0.0000000e+00  0.0000000e+00  0.0000000e+00  1.0000000e+00]]\n",
      "[[-1.00009999e-08 -9.99999993e-05  1.00009999e-04 -1.00004999e-04]\n",
      " [ 1.00009999e-04 -9.99999994e-09 -9.99899988e-05  9.99899998e-05]\n",
      " [-9.99999993e-05  9.99999998e-05 -9.99999994e-09  9.99999998e-05]\n",
      " [ 0.00000000e+00  0.00000000e+00  0.00000000e+00  0.00000000e+00]]\n"
     ]
    }
   ],
   "source": [
    "# 旋转误差器，目前至考虑旋转带来的误差，所有的偏置均为0\n",
    "# TODO：动画\n",
    "delta = 1e-4\n",
    "coeff = 1\n",
    "Rotator = rtb.DHRobot([\n",
    "    RevoluteDH(a=0, alpha=math.pi/2, d=coeff, offset=math.pi/2),\n",
    "    RevoluteDH(a=0, alpha=math.pi/2, d=coeff, offset=math.pi/2),\n",
    "    RevoluteDH(a=0, alpha=math.pi/2, d=coeff, offset=math.pi/2),\n",
    "], name=\"Rotator\")\n",
    "Rotator.plot([delta, delta, delta]);\n",
    "R_error = Rotator.fkine([delta, delta, delta]).A\n",
    "R_correct = Rotator.fkine([0, 0, 0]).A\n",
    "print(R_correct)\n",
    "print(R_error - R_correct)\n",
    "# 这个结果完美符合理论公式"
   ]
  },
  {
   "cell_type": "code",
   "execution_count": 14,
   "metadata": {},
   "outputs": [
    {
     "data": {
      "text/plain": [
       "   1         0         0         0.0001    \n",
       "   0         1         0         0.0001    \n",
       "   0         0         1         0.0001    \n",
       "   0         0         0         1         \n"
      ]
     },
     "execution_count": 14,
     "metadata": {},
     "output_type": "execute_result"
    }
   ],
   "source": [
    "# 平移误差器，目前仅考虑平移带来的误差\n",
    "delta = 1e-4\n",
    "Prismator = rtb.DHRobot([\n",
    "    PrismaticDH(a=0, alpha=math.pi/2, offset=0*0.5, theta=math.pi/2),\n",
    "    PrismaticDH(a=0, alpha=math.pi/2, offset=0*0.5, theta=math.pi/2),\n",
    "    PrismaticDH(a=0, alpha=math.pi/2, offset=0*0.5, theta=math.pi/2),\n",
    "], name=\"Prismator\")\n",
    "Prismator.plot([delta, delta, delta]);\n",
    "Prismator.fkine([delta, delta, delta])\n",
    "# 完美符合理论公式"
   ]
  },
  {
   "cell_type": "markdown",
   "metadata": {},
   "source": [
    "总结：\n",
    "- 旋转误差器\n",
    "~~~python\n",
    "    RevoluteDH(a=0, alpha=math.pi/2, d=coeff, offset=math.pi/2),    # t_z\n",
    "    RevoluteDH(a=0, alpha=math.pi/2, d=coeff, offset=math.pi/2),    # t_x\n",
    "    RevoluteDH(a=0, alpha=math.pi/2, d=coeff, offset=math.pi/2),    # t_y\n",
    "~~~\n",
    "- 平移误差器\n",
    "~~~python\n",
    "    PrismaticDH(a=0, alpha=math.pi/2, offset=coeff, theta=math.pi/2),   # dz\n",
    "    PrismaticDH(a=0, alpha=math.pi/2, offset=coeff, theta=math.pi/2),   # dx\n",
    "    PrismaticDH(a=0, alpha=math.pi/2, offset=coeff, theta=math.pi/2),   # dy\n",
    "~~~"
   ]
  },
  {
   "cell_type": "code",
   "execution_count": 15,
   "metadata": {},
   "outputs": [],
   "source": [
    "# 整体的运动学模型\n",
    "coeff = 0\n",
    "BZRobot = rtb.DHRobot([\n",
    "    PrismaticDH(a=0, alpha=math.pi/2, theta=math.pi/2, offset=0), # LINK1\n",
    "        # 平移误差器\n",
    "        PrismaticDH(a=0, alpha=math.pi/2, offset=coeff, theta=math.pi/2),\n",
    "        PrismaticDH(a=0, alpha=math.pi/2, offset=coeff, theta=math.pi/2),\n",
    "        PrismaticDH(a=0, alpha=math.pi/2, offset=coeff, theta=math.pi/2),\n",
    "        # 旋转误差器\n",
    "        RevoluteDH(a=0, alpha=math.pi/2, d=coeff, offset=math.pi/2),\n",
    "        RevoluteDH(a=0, alpha=math.pi/2, d=coeff, offset=math.pi/2),\n",
    "        RevoluteDH(a=0, alpha=math.pi/2, d=coeff, offset=math.pi/2),\n",
    "    PrismaticDH(a=0, alpha=math.pi/2, theta=math.pi/2, offset=0),   # LINK2\n",
    "        # 平移误差器\n",
    "        PrismaticDH(a=0, alpha=math.pi/2, offset=coeff, theta=math.pi/2),\n",
    "        PrismaticDH(a=0, alpha=math.pi/2, offset=coeff, theta=math.pi/2),\n",
    "        PrismaticDH(a=0, alpha=math.pi/2, offset=coeff, theta=math.pi/2),\n",
    "        # 旋转误差器\n",
    "        RevoluteDH(a=0, alpha=math.pi/2, d=coeff, offset=math.pi/2),\n",
    "        RevoluteDH(a=0, alpha=math.pi/2, d=coeff, offset=math.pi/2),\n",
    "        RevoluteDH(a=0, alpha=math.pi/2, d=coeff, offset=math.pi/2),\n",
    "    PrismaticDH(a=0, alpha=0, theta=0, offset=0),   # LINK3\n",
    "        # 平移误差器\n",
    "        PrismaticDH(a=0, alpha=math.pi/2, offset=coeff, theta=math.pi/2),\n",
    "        PrismaticDH(a=0, alpha=math.pi/2, offset=coeff, theta=math.pi/2),\n",
    "        PrismaticDH(a=0, alpha=math.pi/2, offset=coeff, theta=math.pi/2),\n",
    "        # 旋转误差器\n",
    "        RevoluteDH(a=0, alpha=math.pi/2, d=coeff, offset=math.pi/2),\n",
    "        RevoluteDH(a=0, alpha=math.pi/2, d=coeff, offset=math.pi/2),\n",
    "        RevoluteDH(a=0, alpha=math.pi/2, d=coeff, offset=math.pi/2),\n",
    "    RevoluteDH(a=0, alpha=0, d=0),  # LINK4\n",
    "        # 平移误差器\n",
    "        PrismaticDH(a=0, alpha=math.pi/2, offset=coeff, theta=math.pi/2),\n",
    "        PrismaticDH(a=0, alpha=math.pi/2, offset=coeff, theta=math.pi/2),\n",
    "        PrismaticDH(a=0, alpha=math.pi/2, offset=coeff, theta=math.pi/2),\n",
    "        # 旋转误差器\n",
    "        RevoluteDH(a=0, alpha=math.pi/2, d=coeff, offset=math.pi/2),\n",
    "        RevoluteDH(a=0, alpha=math.pi/2, d=coeff, offset=math.pi/2),\n",
    "        RevoluteDH(a=0, alpha=math.pi/2, d=coeff, offset=math.pi/2),\n",
    "], name=\"BZRobot\")\n",
    "\n",
    "BZRobot.plot([1]+[0]*6+[1]+[0]*6+[1]+[0]*6+[0]+[0]*6);\n",
    "# TODO: 展示28个自由度"
   ]
  },
  {
   "cell_type": "code",
   "execution_count": 16,
   "metadata": {},
   "outputs": [],
   "source": [
    "# Set value\n",
    "L1_error = [d_z1, d_x1, d_y1, e_z1, e_x1, e_y1]\n",
    "L2_error = [d_z2, d_x2, d_y2, e_z2, e_x2, e_y2]\n",
    "L3_error = [d_z3, d_x3, d_y3, e_z3, e_x3, e_y3]\n",
    "L4_error = [d_z4, d_x4, d_y4, t_z, e_x4, e_y4]  # 注意，e_z4已经被弃用\n",
    "paraList = [p_z] + L1_error + [p_x] + L2_error + [p_y] + L3_error + [e_z4] + L4_error\n",
    "len(paraList)\n",
    "\n",
    "# NOTE!\n",
    "# 注意：由于坐标系不同，所以误差的角标不加区分\n",
    "\n",
    "# 位置误差控制在0.001m以内\n",
    "displace_error = 0.001 * random.uniform(0, 1)\n",
    "# 角度误差控制在1度，即0.017弧度以内\n",
    "angle_error = 0.017 * 1 * 0.5 * random.uniform(0, 1)\n",
    "# 末端为吸盘端，认为主要的角度误差产生在z轴上\n",
    "angle_error_z = 0.017/2 * 0.5 * random.uniform(0, 1)\n",
    "angle_error_x = 0.017/2 * 0.5 * random.uniform(0, 1)\n",
    "angle_error_y = 0.017/2 * 0.5 * random.uniform(0, 1)\n",
    "\n",
    "valueDic = {\n",
    "    a1: 0, b1: 0, c1: 0,\n",
    "    a2: 0, b2: 0, c2: 0,\n",
    "    a3: 0, b3: 0, c3: 0,\n",
    "\n",
    "    p_x: 0.1, p_y: 0.1, p_z: 0.1,\n",
    "    \n",
    "    e_x1: angle_error, e_y1: angle_error, e_z1: angle_error,\n",
    "    e_x2: angle_error, e_y2: angle_error, e_z2: angle_error,\n",
    "    e_x3: angle_error, e_y3: angle_error, e_z3: angle_error,\n",
    "    e_x4: angle_error_x, e_y4: angle_error_y, \n",
    "    e_z4: 0,    # NOTE! e_z4已经被弃用!!! 设置为0！！！\n",
    "    d_x1: displace_error, d_y1: displace_error, d_z1: displace_error,\n",
    "    d_x2: displace_error, d_y2: displace_error, d_z2: displace_error,\n",
    "    d_x3: displace_error, d_y3: displace_error, d_z3: displace_error,\n",
    "    d_x4: displace_error, d_y4: displace_error, d_z4: displace_error,\n",
    "    t_z: angle_error_z\n",
    "}\n",
    "\n",
    "subList = [\n",
    "    (d_x1, valueDic[d_x1]), (d_y1, valueDic[d_y1]), (d_z1, valueDic[d_z1]),\n",
    "    (d_x2, valueDic[d_x2]), (d_y2, valueDic[d_y2]), (d_z2, valueDic[d_z2]),\n",
    "    (d_x3, valueDic[d_x3]), (d_y3, valueDic[d_y3]), (d_z3, valueDic[d_z3]),\n",
    "    (d_x4, valueDic[d_x4]), (d_y4, valueDic[d_y4]), (d_z4, valueDic[d_z4]),\n",
    "    (e_x1, valueDic[e_x1]), (e_y1, valueDic[e_y1]), (e_z1, valueDic[e_z1]),\n",
    "    (e_x2, valueDic[e_x2]), (e_y2, valueDic[e_y2]), (e_z2, valueDic[e_z2]),\n",
    "    (e_x3, valueDic[e_x3]), (e_y3, valueDic[e_y3]), (e_z3, valueDic[e_z3]),\n",
    "    (e_x4, valueDic[e_x4]), (e_y4, valueDic[e_y4]), (e_z4, valueDic[e_z4]),\n",
    "    (t_z, valueDic[t_z]),\n",
    "    # 控制量\n",
    "    (p_x, valueDic[p_x]), (p_y, valueDic[p_y]), (p_z, valueDic[p_z]),\n",
    "    # 几何初始值（全部收缩在原点）\n",
    "    (a1, 0), (b1, 0), (c1, 0),\n",
    "    (a2, 0), (b2, 0), (c2, 0),\n",
    "    (a3, 0), (b3, 0), (c3, 0),\n",
    "]"
   ]
  },
  {
   "cell_type": "code",
   "execution_count": 17,
   "metadata": {},
   "outputs": [
    {
     "name": "stdout",
     "output_type": "stream",
     "text": [
      "   0         1         0         0.1       \n",
      "   0         0         1         0.1       \n",
      "   1         0         0         0.1       \n",
      "   0         0         0         1         \n",
      "\n",
      "0.10000000000000006 0.09999999999999998 0.09999999999999998\n"
     ]
    }
   ],
   "source": [
    "expect_displacement = [valueDic[p_x]]+[0]*6+[valueDic[p_y]]+[0]*6+[valueDic[p_z]]+[0]*6+[0]+[0]*6\n",
    "print(BZRobot.fkine(expect_displacement))   # 目标位置\n",
    "mat_sim_exp = BZRobot.fkine(expect_displacement).A\n",
    "BZRobot.plot(expect_displacement);\n",
    "x_sim_exp = mat_sim_exp[0][3]\n",
    "y_sim_exp = mat_sim_exp[1][3]\n",
    "z_sim_exp = mat_sim_exp[2][3]\n",
    "print(x_sim_exp, y_sim_exp, z_sim_exp)\n"
   ]
  },
  {
   "cell_type": "code",
   "execution_count": 18,
   "metadata": {},
   "outputs": [
    {
     "name": "stdout",
     "output_type": "stream",
     "text": [
      "[[ 0.00383742  0.99997042 -0.00666511  0.10126259]\n",
      " [-0.00590976  0.00668772  0.99996017  0.10163881]\n",
      " [ 0.99997517 -0.00379787  0.00593525  0.10163992]\n",
      " [ 0.          0.          0.          1.        ]]\n",
      "0.10126258592778878 0.10163881411425382 0.1016399220309783\n"
     ]
    }
   ],
   "source": [
    "# 创造fkine对应的列表\n",
    "real_displacement = []\n",
    "for symbol in paraList:\n",
    "    real_displacement.append(valueDic[symbol])\n",
    "\n",
    "# 计算\n",
    "mat_sim_real = BZRobot.fkine(real_displacement).A\n",
    "print(mat_sim_real)\n",
    "BZRobot.plot(real_displacement);\n",
    "x_sim_real = mat_sim_real[0][3]\n",
    "y_sim_real = mat_sim_real[1][3]\n",
    "z_sim_real = mat_sim_real[2][3]\n",
    "print(x_sim_real, y_sim_real, z_sim_real)"
   ]
  },
  {
   "cell_type": "code",
   "execution_count": 19,
   "metadata": {},
   "outputs": [
    {
     "name": "stdout",
     "output_type": "stream",
     "text": [
      "仿真得到的误差\n",
      "0.00126 0.00164 0.00164\n",
      "理论计算的误差\n",
      "0.00172 0.00123 0.00159\n",
      "计算两者偏差\n",
      "-0.26747 0.33558 0.03115\n"
     ]
    }
   ],
   "source": [
    "precision = 5\n",
    "# 仿真得到的误差\n",
    "print(\"仿真得到的误差\")\n",
    "x_sim_error = x_sim_real - x_sim_exp\n",
    "y_sim_error = y_sim_real - y_sim_exp\n",
    "z_sim_error = z_sim_real - z_sim_exp\n",
    "print(round(x_sim_error, precision), round(y_sim_error, precision), round(z_sim_error, precision))\n",
    "\n",
    "# 理论计算的误差\n",
    "P_err = P_err.subs(subList)\n",
    "print(\"理论计算的误差\")\n",
    "x_theory_error = P_err[0]\n",
    "y_theory_error = P_err[1]\n",
    "z_theory_error = P_err[2]\n",
    "print(round(x_theory_error, precision), round(y_theory_error, precision), round(z_theory_error, precision))\n",
    "\n",
    "# 计算两者偏差\n",
    "print(\"计算两者偏差\")\n",
    "x_bias_percent = (x_sim_error - x_theory_error) / x_theory_error\n",
    "y_bias_percent = (y_sim_error - y_theory_error) / y_theory_error\n",
    "z_bias_percent = (z_sim_error - z_theory_error) / z_theory_error\n",
    "print(round(x_bias_percent, precision), round(y_bias_percent, precision), round(z_bias_percent, precision))"
   ]
  }
 ],
 "metadata": {
  "kernelspec": {
   "display_name": "DeepLearning",
   "language": "python",
   "name": "python3"
  },
  "language_info": {
   "codemirror_mode": {
    "name": "ipython",
    "version": 3
   },
   "file_extension": ".py",
   "mimetype": "text/x-python",
   "name": "python",
   "nbconvert_exporter": "python",
   "pygments_lexer": "ipython3",
   "version": "3.10.6"
  },
  "orig_nbformat": 4
 },
 "nbformat": 4,
 "nbformat_minor": 2
}
