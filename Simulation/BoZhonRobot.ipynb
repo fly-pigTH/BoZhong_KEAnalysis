{
 "cells": [
  {
   "cell_type": "markdown",
   "metadata": {},
   "source": [
    "# BoZhon Robotic Kinematic Analysis\n",
    "> Author: ZYL"
   ]
  },
  {
   "cell_type": "code",
   "execution_count": 1,
   "metadata": {},
   "outputs": [],
   "source": [
    "# import\n",
    "import roboticstoolbox as rtb\n",
    "from roboticstoolbox.robot.DHLink import PrismaticDH, RevoluteDH\n",
    "from spatialmath import *\n",
    "import numpy as np\n",
    "import math\n",
    "import sympy as sp\n",
    "import random\n",
    "# 改变后端，弹窗显示\n",
    "%matplotlib qt5"
   ]
  },
  {
   "cell_type": "code",
   "execution_count": 2,
   "metadata": {},
   "outputs": [],
   "source": [
    "# 标准的运动学模型\n",
    "BZRobot = rtb.DHRobot([\n",
    "    PrismaticDH(a=0, alpha=math.pi/2, theta=math.pi/2, offset=0),\n",
    "    PrismaticDH(a=0, alpha=math.pi/2, theta=math.pi/2, offset=0),\n",
    "    PrismaticDH(a=0, alpha=0, theta=0, offset=0),\n",
    "    RevoluteDH(a=0, alpha=0, d=0),\n",
    "], name=\"BoZhonRobot\")"
   ]
  },
  {
   "cell_type": "code",
   "execution_count": 3,
   "metadata": {},
   "outputs": [],
   "source": [
    "# 带入误差的运动学模型\n",
    "epislon = 0.01\n",
    "BZRobot_real = rtb.DHRobot([\n",
    "    PrismaticDH(a=epislon, alpha=math.pi/2+epislon, theta=math.pi/2+epislon, offset=epislon),\n",
    "    PrismaticDH(a=epislon, alpha=math.pi/2+epislon, theta=math.pi/2+epislon, offset=epislon),\n",
    "    PrismaticDH(a=epislon, alpha=0+epislon, theta=0, offset=epislon),\n",
    "    RevoluteDH(a=0, alpha=0, d=0),\n",
    "], name=\"BoZhonRobot\")"
   ]
  },
  {
   "cell_type": "code",
   "execution_count": 4,
   "metadata": {},
   "outputs": [
    {
     "name": "stdout",
     "output_type": "stream",
     "text": [
      "[[0.0100988300508766 0.999502056363797 -0.0298940287707309\n",
      "  1.01979768343424*a + 0.00990200149999922]\n",
      " [-0.00989934167974705 0.0299940204376503 0.999501056413796\n",
      "  0.0198990166738667 - 0.989751683636164*a]\n",
      " [0.999900003333289 -0.00979786009940893 0.0101973168804974\n",
      "  0.979901336614957*a + 0.0299989900338329]\n",
      " [0 0 0 1.00000000000000]]\n"
     ]
    }
   ],
   "source": [
    "a = sp.Symbol(\"a\")\n",
    "print(BZRobot_real.fkine([a, a, -a, 0]).A)\n",
    "# BZRobot_real.plot([a, a, -a, 0]);"
   ]
  },
  {
   "cell_type": "code",
   "execution_count": 5,
   "metadata": {},
   "outputs": [
    {
     "name": "stdout",
     "output_type": "stream",
     "text": [
      "[[-6.1232340e-17  1.0000000e+00  1.2246468e-16  1.0000000e+00]\n",
      " [ 6.1232340e-17 -1.2246468e-16  1.0000000e+00  1.0000000e+00]\n",
      " [ 1.0000000e+00  6.1232340e-17 -6.1232340e-17  1.0000000e+00]\n",
      " [ 0.0000000e+00  0.0000000e+00  0.0000000e+00  1.0000000e+00]]\n"
     ]
    }
   ],
   "source": [
    "print(BZRobot.fkine([1, 1, 1, 0]).A)\n",
    "BZRobot.plot([1, 1, 1, 0]);"
   ]
  },
  {
   "cell_type": "code",
   "execution_count": 6,
   "metadata": {},
   "outputs": [
    {
     "name": "stdout",
     "output_type": "stream",
     "text": [
      "[[ 1.0000000e+00  1.2246468e-16 -1.2246468e-16  1.0000000e+00]\n",
      " [-1.2246468e-16  1.0000000e+00  1.2246468e-16  1.0000000e+00]\n",
      " [ 1.2246468e-16 -1.2246468e-16  1.0000000e+00  1.0000000e+00]\n",
      " [ 0.0000000e+00  0.0000000e+00  0.0000000e+00  1.0000000e+00]]\n",
      "[[-1.00009999e-08 -9.99999993e-05  1.00009999e-04 -1.00004999e-04]\n",
      " [ 1.00009999e-04 -9.99999994e-09 -9.99899988e-05  9.99899998e-05]\n",
      " [-9.99999993e-05  9.99999998e-05 -9.99999994e-09  9.99999998e-05]\n",
      " [ 0.00000000e+00  0.00000000e+00  0.00000000e+00  0.00000000e+00]]\n"
     ]
    }
   ],
   "source": [
    "# 旋转误差器，目前至考虑旋转带来的误差，所有的偏置均为0\n",
    "delta = 1e-4\n",
    "coeff = 1\n",
    "Rotator = rtb.DHRobot([\n",
    "    RevoluteDH(a=0, alpha=math.pi/2, d=coeff, offset=math.pi/2),\n",
    "    RevoluteDH(a=0, alpha=math.pi/2, d=coeff, offset=math.pi/2),\n",
    "    RevoluteDH(a=0, alpha=math.pi/2, d=coeff, offset=math.pi/2),\n",
    "], name=\"Rotator\")\n",
    "Rotator.plot([delta, delta, delta]);\n",
    "R_error = Rotator.fkine([delta, delta, delta]).A\n",
    "R_correct = Rotator.fkine([0, 0, 0]).A\n",
    "print(R_correct)\n",
    "print(R_error - R_correct)\n",
    "# 这个结果完美符合理论公式"
   ]
  },
  {
   "cell_type": "code",
   "execution_count": 7,
   "metadata": {},
   "outputs": [],
   "source": [
    "# 再用符号法进行验算\n",
    "e_x, e_y, e_z = sp.Symbol(\"\\epsilon_x\"), sp.Symbol(\"\\epsilon_y\"), sp.Symbol(\"\\epsilon_z\")"
   ]
  },
  {
   "cell_type": "code",
   "execution_count": 8,
   "metadata": {},
   "outputs": [
    {
     "name": "stdout",
     "output_type": "stream",
     "text": [
      "[[ 1.00000000e+00  1.98247506e-32 -1.22464680e-16  5.00000000e-01]\n",
      " [-4.82715273e-33  1.00000000e+00  1.22464680e-16  5.00000000e-01]\n",
      " [ 1.22464680e-16 -1.22464680e-16  1.00000000e+00  1.50000000e+00]\n",
      " [ 0.00000000e+00  0.00000000e+00  0.00000000e+00  1.00000000e+00]]\n",
      "[[-9.99999994e-09 -9.99999998e-05  9.99999993e-05 -4.99999999e-05]\n",
      " [ 1.00009999e-04 -9.99999994e-09 -9.99899993e-05 -5.00049999e-05]\n",
      " [-9.99899993e-05  9.99999993e-05 -9.99899996e-09  4.99974997e-05]\n",
      " [ 0.00000000e+00  0.00000000e+00  0.00000000e+00  0.00000000e+00]]\n"
     ]
    }
   ],
   "source": [
    "delta = 1e-4\n",
    "Rotator = rtb.DHRobot([\n",
    "    PrismaticDH(a=0, alpha=math.pi/2, offset=1, theta=math.pi/2),\n",
    "    RevoluteDH(a=0, alpha=math.pi/2, d=0.5, offset=math.pi),\n",
    "    RevoluteDH(a=0, alpha=math.pi/2, d=0.5, offset=-math.pi/2),\n",
    "    RevoluteDH(a=0, alpha=math.pi/2, d=0.5, offset=math.pi),\n",
    "], name=\"Rotator\")\n",
    "Rotator.plot([0, delta, delta, delta]);\n",
    "R_error = Rotator.fkine([0, delta, delta, delta]).A\n",
    "R_correct = Rotator.fkine([0, 0, 0, 0]).A\n",
    "print(R_correct)\n",
    "print(R_error - R_correct)"
   ]
  },
  {
   "cell_type": "code",
   "execution_count": 9,
   "metadata": {},
   "outputs": [
    {
     "ename": "ValueError",
     "evalue": "cannot reshape array of size 5 into shape (4)",
     "output_type": "error",
     "traceback": [
      "\u001b[1;31m---------------------------------------------------------------------------\u001b[0m",
      "\u001b[1;31mValueError\u001b[0m                                Traceback (most recent call last)",
      "\u001b[1;32md:\\ZYL\\ZYL\\Courses\\2023_3_3大三暑假学期\\暑期实习\\项目课题\\Simulation\\BoZhonRobot.ipynb Cell 10\u001b[0m in \u001b[0;36m1\n\u001b[1;32m----> <a href='vscode-notebook-cell:/d%3A/ZYL/ZYL/Courses/2023_3_3%E5%A4%A7%E4%B8%89%E6%9A%91%E5%81%87%E5%AD%A6%E6%9C%9F/%E6%9A%91%E6%9C%9F%E5%AE%9E%E4%B9%A0/%E9%A1%B9%E7%9B%AE%E8%AF%BE%E9%A2%98/Simulation/BoZhonRobot.ipynb#X12sZmlsZQ%3D%3D?line=0'>1</a>\u001b[0m R_error \u001b[39m=\u001b[39m Rotator\u001b[39m.\u001b[39;49mfkine([\u001b[39m0\u001b[39;49m, e_x, e_y, e_z, \u001b[39m0\u001b[39;49m])\u001b[39m.\u001b[39mA\n\u001b[0;32m      <a href='vscode-notebook-cell:/d%3A/ZYL/ZYL/Courses/2023_3_3%E5%A4%A7%E4%B8%89%E6%9A%91%E5%81%87%E5%AD%A6%E6%9C%9F/%E6%9A%91%E6%9C%9F%E5%AE%9E%E4%B9%A0/%E9%A1%B9%E7%9B%AE%E8%AF%BE%E9%A2%98/Simulation/BoZhonRobot.ipynb#X12sZmlsZQ%3D%3D?line=1'>2</a>\u001b[0m \u001b[39m# print(R_error)\u001b[39;00m\n\u001b[0;32m      <a href='vscode-notebook-cell:/d%3A/ZYL/ZYL/Courses/2023_3_3%E5%A4%A7%E4%B8%89%E6%9A%91%E5%81%87%E5%AD%A6%E6%9C%9F/%E6%9A%91%E6%9C%9F%E5%AE%9E%E4%B9%A0/%E9%A1%B9%E7%9B%AE%E8%AF%BE%E9%A2%98/Simulation/BoZhonRobot.ipynb#X12sZmlsZQ%3D%3D?line=2'>3</a>\u001b[0m res01 \u001b[39m=\u001b[39m sp\u001b[39m.\u001b[39msimplify(R_error[\u001b[39m0\u001b[39m][\u001b[39m1\u001b[39m])\n",
      "File \u001b[1;32md:\\ZYL\\Download\\Anaconda\\Anaconda3\\envs\\DeepLearning\\lib\\site-packages\\roboticstoolbox\\robot\\DHRobot.py:944\u001b[0m, in \u001b[0;36mDHRobot.fkine\u001b[1;34m(self, q, **kwargs)\u001b[0m\n\u001b[0;32m    941\u001b[0m     tool \u001b[39m=\u001b[39m \u001b[39mself\u001b[39m\u001b[39m.\u001b[39mtool\n\u001b[0;32m    943\u001b[0m T \u001b[39m=\u001b[39m SE3\u001b[39m.\u001b[39mEmpty()\n\u001b[1;32m--> 944\u001b[0m \u001b[39mfor\u001b[39;00m qr \u001b[39min\u001b[39;00m getmatrix(q, (\u001b[39mNone\u001b[39;49;00m, \u001b[39mself\u001b[39;49m\u001b[39m.\u001b[39;49mn)):\n\u001b[0;32m    946\u001b[0m     first \u001b[39m=\u001b[39m \u001b[39mTrue\u001b[39;00m\n\u001b[0;32m    947\u001b[0m     \u001b[39mfor\u001b[39;00m q, L \u001b[39min\u001b[39;00m \u001b[39mzip\u001b[39m(qr, \u001b[39mself\u001b[39m\u001b[39m.\u001b[39mlinks):\n",
      "File \u001b[1;32md:\\ZYL\\Download\\Anaconda\\Anaconda3\\envs\\DeepLearning\\lib\\site-packages\\spatialmath\\base\\argcheck.py:225\u001b[0m, in \u001b[0;36mgetmatrix\u001b[1;34m(m, shape, dtype)\u001b[0m\n\u001b[0;32m    223\u001b[0m     \u001b[39mreturn\u001b[39;00m m\u001b[39m.\u001b[39mreshape((shape[\u001b[39m0\u001b[39m], \u001b[39m-\u001b[39m\u001b[39m1\u001b[39m))\n\u001b[0;32m    224\u001b[0m \u001b[39melif\u001b[39;00m shape[\u001b[39m0\u001b[39m] \u001b[39mis\u001b[39;00m \u001b[39mNone\u001b[39;00m \u001b[39mand\u001b[39;00m shape[\u001b[39m1\u001b[39m] \u001b[39mis\u001b[39;00m \u001b[39mnot\u001b[39;00m \u001b[39mNone\u001b[39;00m:\n\u001b[1;32m--> 225\u001b[0m     \u001b[39mreturn\u001b[39;00m m\u001b[39m.\u001b[39;49mreshape((\u001b[39m-\u001b[39;49m\u001b[39m1\u001b[39;49m, shape[\u001b[39m1\u001b[39;49m]))\n\u001b[0;32m    226\u001b[0m \u001b[39melse\u001b[39;00m:\n\u001b[0;32m    227\u001b[0m     \u001b[39mreturn\u001b[39;00m m\u001b[39m.\u001b[39mreshape((\u001b[39m1\u001b[39m, \u001b[39m-\u001b[39m\u001b[39m1\u001b[39m))\n",
      "\u001b[1;31mValueError\u001b[0m: cannot reshape array of size 5 into shape (4)"
     ]
    }
   ],
   "source": [
    "R_error = Rotator.fkine([0, e_x, e_y, e_z, 0]).A\n",
    "# print(R_error)\n",
    "res01 = sp.simplify(R_error[0][1])\n",
    "# R_correct = Rotator.fkine([0, 0, 0, 0, 0]).A\n",
    "# print(R_correct)\n",
    "# print(R_error - R_correct)\n",
    "res01 = res01.subs([(sp.sin(e_x), e_x), (sp.sin(e_y), e_y), (sp.sin(e_z), e_z)])\n",
    "res01 = res01.subs([(sp.cos(e_x), 1), (sp.cos(e_y), 1), (sp.cos(e_z), 1)])\n",
    "# 结果过于复杂，不要这么搞了"
   ]
  },
  {
   "cell_type": "code",
   "execution_count": null,
   "metadata": {},
   "outputs": [
    {
     "data": {
      "text/latex": [
       "$\\displaystyle 6.12323399573677 \\cdot 10^{-17} \\epsilon_{z} \\left(\\left(3.74939945665464 \\cdot 10^{-33} \\epsilon_{x} + 1.0\\right) \\sin{\\left(\\epsilon_{y} - 1.5707963267949 \\right)} - 6.12323399573677 \\cdot 10^{-17} \\sqrt{2} \\cos{\\left(\\epsilon_{x} + \\frac{\\pi}{4} \\right)} \\cos{\\left(\\epsilon_{y} - 1.5707963267949 \\right)}\\right) - 7.49879891330929 \\cdot 10^{-33} \\epsilon_{z} \\left(6.12323399573677 \\cdot 10^{-17} \\cdot \\left(3.74939945665464 \\cdot 10^{-33} \\epsilon_{x} + 1.0\\right) \\cos{\\left(\\epsilon_{y} - 1.5707963267949 \\right)} + 6.12323399573677 \\cdot 10^{-17} \\sin{\\left(\\epsilon_{x} + 3.14159265358979 \\right)} + 3.74939945665464 \\cdot 10^{-33} \\sqrt{2} \\sin{\\left(\\epsilon_{y} - 1.5707963267949 \\right)} \\cos{\\left(\\epsilon_{x} + \\frac{\\pi}{4} \\right)} + 6.12323399573677 \\cdot 10^{-17} \\cos{\\left(\\epsilon_{x} + 3.14159265358979 \\right)} + 6.12323399573677 \\cdot 10^{-17}\\right) - 7.49879891330929 \\cdot 10^{-33} \\cdot \\left(3.74939945665464 \\cdot 10^{-33} \\epsilon_{x} + 1.0\\right) \\sin{\\left(\\epsilon_{y} - 1.5707963267949 \\right)} - 1.0 \\cdot \\left(3.74939945665464 \\cdot 10^{-33} \\epsilon_{x} + 1.0\\right) \\cos{\\left(\\epsilon_{y} - 1.5707963267949 \\right)} - 6.12323399573677 \\cdot 10^{-17} \\sqrt{2} \\sin{\\left(\\epsilon_{y} - 1.5707963267949 \\right)} \\cos{\\left(\\epsilon_{x} + \\frac{\\pi}{4} \\right)} + 4.59169004331693 \\cdot 10^{-49} \\sqrt{2} \\cos{\\left(\\epsilon_{x} + \\frac{\\pi}{4} \\right)} \\cos{\\left(\\epsilon_{y} - 1.5707963267949 \\right)}$"
      ],
      "text/plain": [
       "6.12323399573677e-17*\\epsilon_z*((3.74939945665464e-33*\\epsilon_x + 1.0)*sin(\\epsilon_y - 1.5707963267949) - 6.12323399573677e-17*sqrt(2)*cos(\\epsilon_x + pi/4)*cos(\\epsilon_y - 1.5707963267949)) - 7.49879891330929e-33*\\epsilon_z*(6.12323399573677e-17*(3.74939945665464e-33*\\epsilon_x + 1.0)*cos(\\epsilon_y - 1.5707963267949) + 6.12323399573677e-17*sin(\\epsilon_x + 3.14159265358979) + 3.74939945665464e-33*sqrt(2)*sin(\\epsilon_y - 1.5707963267949)*cos(\\epsilon_x + pi/4) + 6.12323399573677e-17*cos(\\epsilon_x + 3.14159265358979) + 6.12323399573677e-17) - 7.49879891330929e-33*(3.74939945665464e-33*\\epsilon_x + 1.0)*sin(\\epsilon_y - 1.5707963267949) - 1.0*(3.74939945665464e-33*\\epsilon_x + 1.0)*cos(\\epsilon_y - 1.5707963267949) - 6.12323399573677e-17*sqrt(2)*sin(\\epsilon_y - 1.5707963267949)*cos(\\epsilon_x + pi/4) + 4.59169004331693e-49*sqrt(2)*cos(\\epsilon_x + pi/4)*cos(\\epsilon_y - 1.5707963267949)"
      ]
     },
     "execution_count": 51,
     "metadata": {},
     "output_type": "execute_result"
    }
   ],
   "source": [
    "res01"
   ]
  },
  {
   "cell_type": "code",
   "execution_count": null,
   "metadata": {},
   "outputs": [
    {
     "data": {
      "text/plain": [
       "   1         0         0         0.0001    \n",
       "   0         1         0         0.0001    \n",
       "   0         0         1         0.0001    \n",
       "   0         0         0         1         \n"
      ]
     },
     "execution_count": 76,
     "metadata": {},
     "output_type": "execute_result"
    }
   ],
   "source": [
    "# 平移误差器，目前仅考虑平移带来的误差\n",
    "delta = 1e-4\n",
    "Prismator = rtb.DHRobot([\n",
    "    PrismaticDH(a=0, alpha=math.pi/2, offset=0*0.5, theta=math.pi/2),\n",
    "    PrismaticDH(a=0, alpha=math.pi/2, offset=0*0.5, theta=math.pi/2),\n",
    "    PrismaticDH(a=0, alpha=math.pi/2, offset=0*0.5, theta=math.pi/2),\n",
    "], name=\"Prismator\")\n",
    "Prismator.plot([delta, delta, delta]);\n",
    "Prismator.fkine([delta, delta, delta])\n",
    "# 完美符合理论公式"
   ]
  },
  {
   "cell_type": "markdown",
   "metadata": {},
   "source": [
    "总结：\n",
    "- 旋转误差器\n",
    "~~~python\n",
    "    RevoluteDH(a=0, alpha=math.pi/2, d=coeff, offset=math.pi/2),    # t_z\n",
    "    RevoluteDH(a=0, alpha=math.pi/2, d=coeff, offset=math.pi/2),    # t_x\n",
    "    RevoluteDH(a=0, alpha=math.pi/2, d=coeff, offset=math.pi/2),    # t_y\n",
    "~~~\n",
    "- 平移误差器\n",
    "~~~python\n",
    "    PrismaticDH(a=0, alpha=math.pi/2, offset=coeff, theta=math.pi/2),   # dz\n",
    "    PrismaticDH(a=0, alpha=math.pi/2, offset=coeff, theta=math.pi/2),   # dx\n",
    "    PrismaticDH(a=0, alpha=math.pi/2, offset=coeff, theta=math.pi/2),   # dy\n",
    "~~~"
   ]
  },
  {
   "cell_type": "code",
   "execution_count": 10,
   "metadata": {},
   "outputs": [],
   "source": [
    "# 整体的运动学模型\n",
    "coeff = 0\n",
    "BZRobot = rtb.DHRobot([\n",
    "    PrismaticDH(a=0, alpha=math.pi/2, theta=math.pi/2, offset=0), # LINK1\n",
    "        # 平移误差器\n",
    "        PrismaticDH(a=0, alpha=math.pi/2, offset=coeff, theta=math.pi/2),\n",
    "        PrismaticDH(a=0, alpha=math.pi/2, offset=coeff, theta=math.pi/2),\n",
    "        PrismaticDH(a=0, alpha=math.pi/2, offset=coeff, theta=math.pi/2),\n",
    "        # 旋转误差器\n",
    "        RevoluteDH(a=0, alpha=math.pi/2, d=coeff, offset=math.pi/2),\n",
    "        RevoluteDH(a=0, alpha=math.pi/2, d=coeff, offset=math.pi/2),\n",
    "        RevoluteDH(a=0, alpha=math.pi/2, d=coeff, offset=math.pi/2),\n",
    "    PrismaticDH(a=0, alpha=math.pi/2, theta=math.pi/2, offset=0),   # LINK2\n",
    "        # 平移误差器\n",
    "        PrismaticDH(a=0, alpha=math.pi/2, offset=coeff, theta=math.pi/2),\n",
    "        PrismaticDH(a=0, alpha=math.pi/2, offset=coeff, theta=math.pi/2),\n",
    "        PrismaticDH(a=0, alpha=math.pi/2, offset=coeff, theta=math.pi/2),\n",
    "        # 旋转误差器\n",
    "        RevoluteDH(a=0, alpha=math.pi/2, d=coeff, offset=math.pi/2),\n",
    "        RevoluteDH(a=0, alpha=math.pi/2, d=coeff, offset=math.pi/2),\n",
    "        RevoluteDH(a=0, alpha=math.pi/2, d=coeff, offset=math.pi/2),\n",
    "    PrismaticDH(a=0, alpha=0, theta=0, offset=0),   # LINK3\n",
    "        # 平移误差器\n",
    "        PrismaticDH(a=0, alpha=math.pi/2, offset=coeff, theta=math.pi/2),\n",
    "        PrismaticDH(a=0, alpha=math.pi/2, offset=coeff, theta=math.pi/2),\n",
    "        PrismaticDH(a=0, alpha=math.pi/2, offset=coeff, theta=math.pi/2),\n",
    "        # 旋转误差器\n",
    "        RevoluteDH(a=0, alpha=math.pi/2, d=coeff, offset=math.pi/2),\n",
    "        RevoluteDH(a=0, alpha=math.pi/2, d=coeff, offset=math.pi/2),\n",
    "        RevoluteDH(a=0, alpha=math.pi/2, d=coeff, offset=math.pi/2),\n",
    "    RevoluteDH(a=0, alpha=0, d=0),  # LINK4\n",
    "        # 平移误差器\n",
    "        PrismaticDH(a=0, alpha=math.pi/2, offset=coeff, theta=math.pi/2),\n",
    "        PrismaticDH(a=0, alpha=math.pi/2, offset=coeff, theta=math.pi/2),\n",
    "        PrismaticDH(a=0, alpha=math.pi/2, offset=coeff, theta=math.pi/2),\n",
    "        # 旋转误差器\n",
    "        RevoluteDH(a=0, alpha=math.pi/2, d=coeff, offset=math.pi/2),\n",
    "        RevoluteDH(a=0, alpha=math.pi/2, d=coeff, offset=math.pi/2),\n",
    "        RevoluteDH(a=0, alpha=math.pi/2, d=coeff, offset=math.pi/2),\n",
    "], name=\"BZRobot\")"
   ]
  },
  {
   "cell_type": "code",
   "execution_count": 11,
   "metadata": {},
   "outputs": [],
   "source": [
    "BZRobot.plot([1]+[0]*6+[1]+[0]*6+[1]+[0]*6+[0]+[0]*6);"
   ]
  },
  {
   "cell_type": "code",
   "execution_count": 12,
   "metadata": {},
   "outputs": [
    {
     "name": "stdout",
     "output_type": "stream",
     "text": [
      "# 忽略所有高阶小量\n"
     ]
    }
   ],
   "source": [
    "from error import *"
   ]
  },
  {
   "cell_type": "code",
   "execution_count": 13,
   "metadata": {},
   "outputs": [
    {
     "data": {
      "text/plain": [
       "28"
      ]
     },
     "execution_count": 13,
     "metadata": {},
     "output_type": "execute_result"
    }
   ],
   "source": [
    "# Set value\n",
    "L1_error = [d_z1, d_x1, d_y1, e_z1, e_x1, e_y1]\n",
    "L2_error = [d_z2, d_x2, d_y2, e_z2, e_x2, e_y2]\n",
    "L3_error = [d_z3, d_x3, d_y3, e_z3, e_x3, e_y3]\n",
    "L4_error = [d_z4, d_x4, d_y4, t_z, e_x4, e_y4]  # 注意，e_z4已经被弃用\n",
    "paraList = [p_z] + L1_error + [p_x] + L2_error + [p_y] + L3_error + [e_z4] + L4_error\n",
    "len(paraList)"
   ]
  },
  {
   "cell_type": "code",
   "execution_count": 14,
   "metadata": {},
   "outputs": [],
   "source": [
    "L1_error = [0.1]*6\n",
    "L2_error = [0.1]*6\n",
    "L3_error = [0.1]*6\n",
    "L4_error = [0.1, 0.1, 0.1, 0.1, 0.1, 0.1]"
   ]
  },
  {
   "cell_type": "code",
   "execution_count": 15,
   "metadata": {},
   "outputs": [],
   "source": [
    "# NOTE!\n",
    "# 注意：由于坐标系不同，所以误差的角标不加区分\n",
    "\n",
    "# 位置误差控制在0.001m以内\n",
    "displace_error = 0.001 * random.uniform(0, 1)\n",
    "# 角度误差控制在1度，即0.017弧度以内\n",
    "angle_error = 0.017 * 1 * 0.5 * random.uniform(0, 1)\n",
    "# 末端为吸盘端，认为主要的角度误差产生在z轴上\n",
    "angle_error_z = 0.017/2 * 0.5 * random.uniform(0, 1)\n",
    "angle_error_x = 0.017/2 * 0.5 * random.uniform(0, 1)\n",
    "angle_error_y = 0.017/2 * 0.5 * random.uniform(0, 1)\n",
    "\n",
    "valueDic = {\n",
    "    a1: 0, b1: 0, c1: 0,\n",
    "    a2: 0, b2: 0, c2: 0,\n",
    "    a3: 0, b3: 0, c3: 0,\n",
    "\n",
    "    p_x: 0.1, p_y: 0.1, p_z: 0.1,\n",
    "    \n",
    "    e_x1: angle_error, e_y1: angle_error, e_z1: angle_error,\n",
    "    e_x2: angle_error, e_y2: angle_error, e_z2: angle_error,\n",
    "    e_x3: angle_error, e_y3: angle_error, e_z3: angle_error,\n",
    "    e_x4: angle_error_x, e_y4: angle_error_x, \n",
    "    e_z4: 0,    # NOTE! e_z4已经被弃用!!! 设置为0！！！\n",
    "    d_x1: displace_error, d_y1: displace_error, d_z1: displace_error,\n",
    "    d_x2: displace_error, d_y2: displace_error, d_z2: displace_error,\n",
    "    d_x3: displace_error, d_y3: displace_error, d_z3: displace_error,\n",
    "    d_x4: displace_error, d_y4: displace_error, d_z4: displace_error,\n",
    "    t_z: angle_error_z\n",
    "}"
   ]
  },
  {
   "cell_type": "code",
   "execution_count": 16,
   "metadata": {},
   "outputs": [],
   "source": [
    "errorList = [\n",
    "    (d_x1, valueDic[d_x1]), (d_y1, valueDic[d_y1]), (d_z1, valueDic[d_z1]),\n",
    "    (d_x2, valueDic[d_x2]), (d_y2, valueDic[d_y2]), (d_z2, valueDic[d_z2]),\n",
    "    (d_x3, valueDic[d_x3]), (d_y3, valueDic[d_y3]), (d_z3, valueDic[d_z3]),\n",
    "    (d_x4, valueDic[d_x4]), (d_y4, valueDic[d_y4]), (d_z4, valueDic[d_z4]),\n",
    "    (e_x1, valueDic[e_x1]), (e_y1, valueDic[e_y1]), (e_z1, valueDic[e_z1]),\n",
    "    (e_x2, valueDic[e_x2]), (e_y2, valueDic[e_y2]), (e_z2, valueDic[e_z2]),\n",
    "    (e_x3, valueDic[e_x3]), (e_y3, valueDic[e_y3]), (e_z3, valueDic[e_z3]),\n",
    "    (e_x4, valueDic[e_x4]), (e_y4, valueDic[e_y4]), (e_z4, valueDic[e_z4]),\n",
    "    (t_z, valueDic[t_z])\n",
    "]\n",
    "# 控制量\n",
    "pList = [\n",
    "    (p_x, valueDic[p_x]), (p_y, valueDic[p_y]), (p_z, valueDic[p_z]),\n",
    "\n",
    "]\n",
    "# 几何初始值（全部收缩在原点）\n",
    "geo_list = [\n",
    "    (a1, 0), (b1, 0), (c1, 0),\n",
    "    (a2, 0), (b2, 0), (c2, 0),\n",
    "    (a3, 0), (b3, 0), (c3, 0),\n",
    "]"
   ]
  },
  {
   "cell_type": "code",
   "execution_count": 17,
   "metadata": {},
   "outputs": [
    {
     "name": "stdout",
     "output_type": "stream",
     "text": [
      "   0         1         0         0.1       \n",
      "   0         0         1         0.1       \n",
      "   1         0         0         0.1       \n",
      "   0         0         0         1         \n",
      "\n",
      "0.10000000000000006 0.09999999999999998 0.09999999999999998\n"
     ]
    }
   ],
   "source": [
    "expect_displacement = [valueDic[p_x]]+[0]*6+[valueDic[p_y]]+[0]*6+[valueDic[p_z]]+[0]*6+[0]+[0]*6\n",
    "print(BZRobot.fkine(expect_displacement))   # 目标位置\n",
    "mat_sim_exp = BZRobot.fkine(expect_displacement).A\n",
    "BZRobot.plot(expect_displacement);\n",
    "x_sim_exp = mat_sim_exp[0][3]\n",
    "y_sim_exp = mat_sim_exp[1][3]\n",
    "z_sim_exp = mat_sim_exp[2][3]\n",
    "print(x_sim_exp, y_sim_exp, z_sim_exp)\n"
   ]
  },
  {
   "cell_type": "code",
   "execution_count": 18,
   "metadata": {},
   "outputs": [
    {
     "name": "stdout",
     "output_type": "stream",
     "text": [
      "p_z \\delta_z1 \\delta_x1 \\delta_y1 \\epsilon_z1 \\epsilon_x1 \\epsilon_y1 p_x \\delta_z2 \\delta_x2 \\delta_y2 \\epsilon_z2 \\epsilon_x2 \\epsilon_y2 p_y \\delta_z3 \\delta_x3 \\delta_y3 \\epsilon_z3 \\epsilon_x3 \\epsilon_y3 \\epsilon_z4 \\delta_z4 \\delta_x4 \\delta_y4 theta_z \\epsilon_x4 \\epsilon_y4 "
     ]
    },
    {
     "data": {
      "text/plain": [
       "28"
      ]
     },
     "execution_count": 18,
     "metadata": {},
     "output_type": "execute_result"
    }
   ],
   "source": [
    "real_displacement = []\n",
    "for symbol in paraList:\n",
    "    print(symbol, sep=' ', end=' ')\n",
    "    real_displacement.append(valueDic[symbol])\n",
    "    \n",
    "len(real_displacement)"
   ]
  },
  {
   "cell_type": "code",
   "execution_count": 19,
   "metadata": {},
   "outputs": [
    {
     "name": "stdout",
     "output_type": "stream",
     "text": [
      "[[ 0.00871288  0.9999254  -0.00856031  0.10249441]\n",
      " [-0.00857555  0.00863504  0.99992595  0.10307047]\n",
      " [ 0.99992527 -0.00863882  0.00865014  0.10307308]\n",
      " [ 0.          0.          0.          1.        ]]\n",
      "0.10249441023252628 0.10307047274879771 0.10307308207130765\n"
     ]
    }
   ],
   "source": [
    "mat_sim_real = BZRobot.fkine(real_displacement).A\n",
    "print(mat_sim_real)\n",
    "BZRobot.plot(real_displacement);\n",
    "x_sim_real = mat_sim_real[0][3]\n",
    "y_sim_real = mat_sim_real[1][3]\n",
    "z_sim_real = mat_sim_real[2][3]\n",
    "print(x_sim_real, y_sim_real, z_sim_real)"
   ]
  },
  {
   "cell_type": "code",
   "execution_count": 20,
   "metadata": {},
   "outputs": [
    {
     "name": "stdout",
     "output_type": "stream",
     "text": [
      "仿真得到的误差\n",
      "0.002494410232526223 0.003070472748797737 0.003073082071307673\n"
     ]
    }
   ],
   "source": [
    "# 仿真得到的误差\n",
    "print(\"仿真得到的误差\")\n",
    "x_sim_error = x_sim_real - x_sim_exp\n",
    "y_sim_error = y_sim_real - y_sim_exp\n",
    "z_sim_error = z_sim_real - z_sim_exp\n",
    "print(x_sim_error, y_sim_error, z_sim_error)"
   ]
  },
  {
   "cell_type": "code",
   "execution_count": 21,
   "metadata": {},
   "outputs": [
    {
     "name": "stdout",
     "output_type": "stream",
     "text": [
      "理论计算的误差\n",
      "0.00287033093173126 0.00288363752669937 0.00288405615443609\n"
     ]
    }
   ],
   "source": [
    "# 理论计算的误差\n",
    "P_err = P_err.subs(errorList + pList + geo_list)\n",
    "print(\"理论计算的误差\")\n",
    "x_theory_error = P_err[0]\n",
    "y_theory_error = P_err[1]\n",
    "z_theory_error = P_err[2]\n",
    "print(x_theory_error, y_theory_error, z_theory_error)"
   ]
  },
  {
   "cell_type": "code",
   "execution_count": 22,
   "metadata": {},
   "outputs": [
    {
     "name": "stdout",
     "output_type": "stream",
     "text": [
      "计算两者偏差\n",
      "-0.130967720498452 0.0647915073820754 0.0655416908512120\n"
     ]
    }
   ],
   "source": [
    "# 计算两者偏差\n",
    "print(\"计算两者偏差\")\n",
    "x_bias_percent = (x_sim_error - x_theory_error) / x_theory_error\n",
    "y_bias_percent = (y_sim_error - y_theory_error) / y_theory_error\n",
    "z_bias_percent = (z_sim_error - z_theory_error) / z_theory_error\n",
    "print(x_bias_percent, y_bias_percent, z_bias_percent)"
   ]
  },
  {
   "cell_type": "code",
   "execution_count": null,
   "metadata": {},
   "outputs": [],
   "source": []
  }
 ],
 "metadata": {
  "kernelspec": {
   "display_name": "DeepLearning",
   "language": "python",
   "name": "python3"
  },
  "language_info": {
   "codemirror_mode": {
    "name": "ipython",
    "version": 3
   },
   "file_extension": ".py",
   "mimetype": "text/x-python",
   "name": "python",
   "nbconvert_exporter": "python",
   "pygments_lexer": "ipython3",
   "version": "3.10.6"
  },
  "orig_nbformat": 4
 },
 "nbformat": 4,
 "nbformat_minor": 2
}
